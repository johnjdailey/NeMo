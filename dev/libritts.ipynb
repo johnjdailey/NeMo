{
 "cells": [
  {
   "cell_type": "code",
   "execution_count": 2,
   "metadata": {},
   "outputs": [],
   "source": [
    "import os\n",
    "import tqdm\n",
    "import json\n",
    "import nemo\n",
    "import shutil\n",
    "import string\n",
    "import fnmatch\n",
    "import pathlib\n",
    "import subprocess\n",
    "import numpy as np\n",
    "import pandas as pd\n",
    "\n",
    "from nemo.collections import asr as nemo_asr"
   ]
  },
  {
   "cell_type": "code",
   "execution_count": 2,
   "metadata": {},
   "outputs": [],
   "source": [
    "BASE = pathlib.Path('/home/stanislavv/data/libritts')\n",
    "LOCAL_DATA_ROOT = BASE / 'LibriTTS'\n",
    "NGC_DATA_ROOT = BASE / 'LibriTTS_ngc'\n",
    "LOCAL_MANIFEST_ROOT = BASE / 'local'\n",
    "NGC_MANIFEST_ROOT = BASE / 'ngc'"
   ]
  },
  {
   "cell_type": "code",
   "execution_count": 50,
   "metadata": {},
   "outputs": [
    {
     "name": "stderr",
     "output_type": "stream",
     "text": [
      "100%|██████████| 5736/5736 [00:44<00:00, 128.77it/s]\n"
     ]
    }
   ],
   "source": [
    "def process(part):\n",
    "    def read_text(file):\n",
    "        with open(file, 'r') as f:\n",
    "            return str(f.read())\n",
    "    \n",
    "    def write_manifest(data, file):\n",
    "        with open(file, 'w') as f:\n",
    "            for example in data:\n",
    "                f.write(json.dumps(example) + '\\n')\n",
    "    \n",
    "    ngc_datat_root = NGC_DATA_ROOT / part\n",
    "    ngc_datat_root.mkdir(parents=True, exist_ok=True)\n",
    "    \n",
    "    wavs = list((LOCAL_DATA_ROOT / part).glob('*/*/*.wav'))\n",
    "    local_data, ngc_data = [], []\n",
    "    for wav in tqdm.tqdm(wavs):\n",
    "        shutil.copy(wav, ngc_datat_root / wav.name)\n",
    "        \n",
    "        normalized_text = read_text(wav.with_suffix('.normalized.txt'))\n",
    "        original_text = read_text(wav.with_suffix('.original.txt'))\n",
    "        duration = float(subprocess.check_output(f'soxi -D {wav}', shell=True))\n",
    "        speaker = int(wav.name.split('_')[0])\n",
    "\n",
    "        local_data.append(\n",
    "            dict(\n",
    "                audio_filepath=str(wav),\n",
    "                duration=duration,\n",
    "                normalized_text=normalized_text,\n",
    "                original_text=original_text,\n",
    "                speaker=speaker,\n",
    "            )\n",
    "        )\n",
    "        \n",
    "        ngc_data.append(\n",
    "            dict(\n",
    "                audio_filepath=str(pathlib.Path('/data/libritts') / part / wav.name),\n",
    "                duration=duration,\n",
    "                normalized_text=normalized_text,\n",
    "                original_text=original_text,\n",
    "                speaker=speaker,\n",
    "            )\n",
    "        )\n",
    "\n",
    "    LOCAL_MANIFEST_ROOT.mkdir(parents=True, exist_ok=True)\n",
    "    write_manifest(local_data, LOCAL_MANIFEST_ROOT / f'{part}.json')\n",
    "\n",
    "    NGC_MANIFEST_ROOT.mkdir(parents=True, exist_ok=True)\n",
    "    write_manifest(ngc_data, NGC_MANIFEST_ROOT / f'{part}.json')\n",
    "\n",
    "\n",
    "process('dev-clean')"
   ]
  },
  {
   "cell_type": "code",
   "execution_count": 51,
   "metadata": {},
   "outputs": [
    {
     "name": "stderr",
     "output_type": "stream",
     "text": [
      "  0%|          | 13/4613 [00:00<00:35, 127.91it/s]"
     ]
    },
    {
     "name": "stdout",
     "output_type": "stream",
     "text": [
      "dev-other\n"
     ]
    },
    {
     "name": "stderr",
     "output_type": "stream",
     "text": [
      "100%|██████████| 4613/4613 [00:32<00:00, 142.37it/s]\n",
      "  0%|          | 14/4837 [00:00<00:36, 132.77it/s]"
     ]
    },
    {
     "name": "stdout",
     "output_type": "stream",
     "text": [
      "test-clean\n"
     ]
    },
    {
     "name": "stderr",
     "output_type": "stream",
     "text": [
      "100%|██████████| 4837/4837 [00:37<00:00, 130.14it/s]\n",
      "  0%|          | 14/5120 [00:00<00:37, 135.68it/s]"
     ]
    },
    {
     "name": "stdout",
     "output_type": "stream",
     "text": [
      "test-other\n"
     ]
    },
    {
     "name": "stderr",
     "output_type": "stream",
     "text": [
      "100%|██████████| 5120/5120 [00:38<00:00, 131.62it/s]\n"
     ]
    },
    {
     "name": "stdout",
     "output_type": "stream",
     "text": [
      "train-clean-100\n"
     ]
    },
    {
     "name": "stderr",
     "output_type": "stream",
     "text": [
      "100%|██████████| 33236/33236 [04:31<00:00, 122.43it/s]\n"
     ]
    },
    {
     "name": "stdout",
     "output_type": "stream",
     "text": [
      "train-clean-360\n"
     ]
    },
    {
     "name": "stderr",
     "output_type": "stream",
     "text": [
      "100%|██████████| 116500/116500 [19:11<00:00, 101.19it/s]\n"
     ]
    },
    {
     "name": "stdout",
     "output_type": "stream",
     "text": [
      "train-other-500\n"
     ]
    },
    {
     "name": "stderr",
     "output_type": "stream",
     "text": [
      "100%|██████████| 205044/205044 [39:53<00:00, 85.67it/s]\n"
     ]
    }
   ],
   "source": [
    "for part in ['dev-other', 'test-clean', 'test-other', 'train-clean-100', 'train-clean-360', 'train-other-500']:\n",
    "    print(part)\n",
    "    process(part)"
   ]
  },
  {
   "cell_type": "code",
   "execution_count": 53,
   "metadata": {},
   "outputs": [
    {
     "data": {
      "text/plain": [
       "PosixPath('/home/stanislavv/data/libritts/ngc/speakers.tsv')"
      ]
     },
     "execution_count": 53,
     "metadata": {},
     "output_type": "execute_result"
    }
   ],
   "source": [
    "shutil.copy(LOCAL_DATA_ROOT / 'eval_sentences10.tsv', LOCAL_MANIFEST_ROOT / 'eval_sentences10.tsv')\n",
    "shutil.copy(LOCAL_DATA_ROOT / 'speakers.tsv', LOCAL_MANIFEST_ROOT / 'speakers.tsv')\n",
    "shutil.copy(LOCAL_DATA_ROOT / 'eval_sentences10.tsv', NGC_MANIFEST_ROOT / 'eval_sentences10.tsv')\n",
    "shutil.copy(LOCAL_DATA_ROOT / 'speakers.tsv', NGC_MANIFEST_ROOT / 'speakers.tsv')"
   ]
  },
  {
   "cell_type": "code",
   "execution_count": 54,
   "metadata": {},
   "outputs": [],
   "source": [
    "# !cat train-clean-100.json train-clean-360.json train-other-500.json >train-all.json"
   ]
  },
  {
   "cell_type": "markdown",
   "metadata": {},
   "source": [
    "## Analysis"
   ]
  },
  {
   "cell_type": "code",
   "execution_count": 7,
   "metadata": {},
   "outputs": [
    {
     "name": "stdout",
     "output_type": "stream",
     "text": [
      "dev-clean\n",
      "dev-other\n",
      "test-clean\n",
      "test-other\n",
      "train-all\n"
     ]
    }
   ],
   "source": [
    "alphabet = set()\n",
    "for part in [\n",
    "    'dev-clean',\n",
    "    'dev-other',\n",
    "    'test-clean',\n",
    "    'test-other',\n",
    "    'train-all',\n",
    "]:\n",
    "    print(part)\n",
    "    manifest = LOCAL_MANIFEST_ROOT / f'{part}.json'\n",
    "    with open(manifest, 'r') as f:\n",
    "        for line in f:\n",
    "            text = json.loads(line)['normalized_text']\n",
    "            alphabet.update(text)"
   ]
  },
  {
   "cell_type": "code",
   "execution_count": 25,
   "metadata": {},
   "outputs": [
    {
     "name": "stdout",
     "output_type": "stream",
     "text": [
      "æ ( ê ô . ! { ] ' ) } [ ; — ò é : œ ¯ \"   ñ , ? - è /\n"
     ]
    }
   ],
   "source": [
    "alpha = string.ascii_letters\n",
    "non_ascii = alphabet - set(alpha)\n",
    "print(*non_ascii)"
   ]
  },
  {
   "cell_type": "code",
   "execution_count": 24,
   "metadata": {},
   "outputs": [
    {
     "name": "stdout",
     "output_type": "stream",
     "text": [
      "æ — ò ê ô é œ è ¯ ñ\n"
     ]
    }
   ],
   "source": [
    "punct = '()[]{}!?,.;:-/\\'\" '\n",
    "left = non_ascii - set(punct)\n",
    "print(*left)"
   ]
  },
  {
   "cell_type": "code",
   "execution_count": 26,
   "metadata": {},
   "outputs": [
    {
     "name": "stdout",
     "output_type": "stream",
     "text": [
      "a b c d e f g h i j k l m n o p q r s t u v w x y z A B C D E F G H I J K L M N O P Q R S T U V W X Y Z\n",
      "( ) [ ] { } ! ? , . ; : - / ' \"  \n",
      "æ — ò ê ô é œ è ¯ ñ\n"
     ]
    }
   ],
   "source": [
    "print(*alpha)\n",
    "print(*punct)\n",
    "print(*left)"
   ]
  },
  {
   "cell_type": "code",
   "execution_count": 4,
   "metadata": {},
   "outputs": [
    {
     "data": {
      "text/plain": [
       "2311"
      ]
     },
     "execution_count": 4,
     "metadata": {},
     "output_type": "execute_result"
    }
   ],
   "source": [
    "TRAIN_DATA = '/home/stanislavv/data/libritts/local/train-all.json'\n",
    "train_all_sp = set(e['speaker'] for e in nemo.collections.asr.parts.manifest.item_iter(TRAIN_DATA))\n",
    "len(train_all_sp)"
   ]
  },
  {
   "cell_type": "code",
   "execution_count": 32,
   "metadata": {},
   "outputs": [
    {
     "data": {
      "text/plain": [
       "40"
      ]
     },
     "execution_count": 32,
     "metadata": {},
     "output_type": "execute_result"
    }
   ],
   "source": [
    "DATA = '/home/stanislavv/data/libritts/local/dev-clean.json'\n",
    "dev_clean_sp = set(e['speaker'] for e in nemo.collections.asr.parts.manifest.item_iter(DATA))\n",
    "len(dev_clean_sp)"
   ]
  },
  {
   "cell_type": "code",
   "execution_count": 34,
   "metadata": {},
   "outputs": [
    {
     "data": {
      "text/plain": [
       "33"
      ]
     },
     "execution_count": 34,
     "metadata": {},
     "output_type": "execute_result"
    }
   ],
   "source": [
    "DATA = '/home/stanislavv/data/libritts/local/dev-other.json'\n",
    "dev_other_sp = set(e['speaker'] for e in nemo.collections.asr.parts.manifest.item_iter(DATA))\n",
    "len(dev_other_sp)"
   ]
  },
  {
   "cell_type": "code",
   "execution_count": 6,
   "metadata": {},
   "outputs": [
    {
     "data": {
      "text/plain": [
       "set()"
      ]
     },
     "execution_count": 6,
     "metadata": {},
     "output_type": "execute_result"
    }
   ],
   "source": [
    "train_all_sp & dev_clean_sp"
   ]
  },
  {
   "cell_type": "code",
   "execution_count": 8,
   "metadata": {},
   "outputs": [
    {
     "data": {
      "text/plain": [
       "set()"
      ]
     },
     "execution_count": 8,
     "metadata": {},
     "output_type": "execute_result"
    }
   ],
   "source": [
    "dev_clean_sp & dev_other_sp"
   ]
  },
  {
   "cell_type": "code",
   "execution_count": 9,
   "metadata": {},
   "outputs": [
    {
     "data": {
      "text/plain": [
       "set()"
      ]
     },
     "execution_count": 9,
     "metadata": {},
     "output_type": "execute_result"
    }
   ],
   "source": [
    "train_all_sp & dev_other_sp"
   ]
  },
  {
   "cell_type": "code",
   "execution_count": 12,
   "metadata": {},
   "outputs": [
    {
     "name": "stdout",
     "output_type": "stream",
     "text": [
      "{'audio_file': '/home/stanislavv/data/libritts/LibriTTS/train-other-500/6358/73329/6358_73329_000053_000006.wav', 'duration': 3.62, 'text': 'A doorway cut near the fireplace showed there was probably an inner chamber.', 'offset': None, 'speaker': 6358, 'id': 188015}\n",
      "{'audio_file': '/home/stanislavv/data/libritts/LibriTTS/train-other-500/6358/73329/6358_73329_000051_000002.wav', 'duration': 10.07, 'text': 'Accustomed to the life of a convent, they could not conceive of any other; and when one morning their bars and gratings were flung down, they had shuddered at finding themselves free.', 'offset': None, 'speaker': 6358, 'id': 188016}\n",
      "{'audio_file': '/home/stanislavv/data/libritts/LibriTTS/train-other-500/6358/73329/6358_73329_000079_000001.wav', 'duration': 17.09, 'text': \"Beneath the dome of saint Peter's in Rome, God had never seemed more majestic to man than he did now in this refuge of poverty and to the eyes of these Christians,--so true is it that between man and God all mediation is unneeded, for his glory descends from himself alone.\", 'offset': None, 'speaker': 6358, 'id': 188017}\n",
      "{'audio_file': '/home/stanislavv/data/libritts/LibriTTS/train-other-500/6358/73329/6358_73329_000098_000004.wav', 'duration': 10.129917, 'text': 'They added to their daily prayers a special prayer for him; night and day these pious hearts made supplication for his happiness, his prosperity, his redemption.', 'offset': None, 'speaker': 6358, 'id': 188018}\n",
      "{'audio_file': '/home/stanislavv/data/libritts/LibriTTS/train-other-500/6358/73329/6358_73329_000079_000000.wav', 'duration': 5.9, 'text': 'At these words, uttered with penetrating unction, a solemn awe seized the participants.', 'offset': None, 'speaker': 6358, 'id': 188019}\n",
      "{'audio_file': '/home/stanislavv/data/libritts/LibriTTS/train-other-500/6358/73329/6358_73329_000079_000004.wav', 'duration': 6.49, 'text': 'The two nuns saw the tears coursing down the manly cheeks of their visitant, and dropping fast on the tiled floor.', 'offset': None, 'speaker': 6358, 'id': 188020}\n",
      "{'audio_file': '/home/stanislavv/data/libritts/LibriTTS/train-other-500/6358/73329/6358_73329_000072_000001.wav', 'duration': 10.160042, 'text': 'The nuns, not as yet understanding who it was of whom the unknown man had spoken, stood with their necks stretched and their faces turned towards the speakers, in an attitude of eager curiosity.', 'offset': None, 'speaker': 6358, 'id': 188021}\n",
      "{'audio_file': '/home/stanislavv/data/libritts/LibriTTS/train-other-500/6358/73329/6358_73329_000064_000000.wav', 'duration': 10.290042, 'text': 'He stopped short, for the extreme distress painted on the faces of the poor nuns made him fear he had gone too far; they trembled violently, and their eyes filled with tears.', 'offset': None, 'speaker': 6358, 'id': 188022}\n",
      "{'audio_file': '/home/stanislavv/data/libritts/LibriTTS/train-other-500/6358/73329/6358_73329_000057_000000.wav', 'duration': 10.700042, 'text': '\"If I ask too much-if I annoy you-I will go away; but believe me, I am heartily devoted to you, and if there is any service that I could render you, you may employ me without fear.', 'offset': None, 'speaker': 6358, 'id': 188023}\n",
      "{'audio_file': '/home/stanislavv/data/libritts/LibriTTS/train-other-500/6358/73329/6358_73329_000077_000000.wav', 'duration': 2.810083, 'text': 'The unknown man knelt piously between the sisters.', 'offset': None, 'speaker': 6358, 'id': 188024}\n",
      "{'audio_file': '/home/stanislavv/data/libritts/LibriTTS/train-other-500/6358/73329/6358_73329_000026_000003.wav', 'duration': 8.44, 'text': 'Take back the box.\" These words, whispered in the pastry cook\\'s ear by the wife of his bosom, chilled the sudden compassion that had warmed him.', 'offset': None, 'speaker': 6358, 'id': 188025}\n",
      "{'audio_file': '/home/stanislavv/data/libritts/LibriTTS/train-other-500/6358/73329/6358_73329_000029_000000.wav', 'duration': 4.24, 'text': '\"Miserable aristocrat!\" he cried, furiously, \"do you want to cut off our heads?', 'offset': None, 'speaker': 6358, 'id': 188026}\n",
      "{'audio_file': '/home/stanislavv/data/libritts/LibriTTS/train-other-500/6358/73329/6358_73329_000028_000000.wav', 'duration': 4.4, 'text': 'The old gentlewoman, passive as a child and half paralyzed with fear, sat down again.', 'offset': None, 'speaker': 6358, 'id': 188027}\n",
      "{'audio_file': '/home/stanislavv/data/libritts/LibriTTS/train-other-500/6358/73329/6358_73329_000015_000006.wav', 'duration': 2.16, 'text': 'Her clothing showed vestiges of luxury.', 'offset': None, 'speaker': 6358, 'id': 188028}\n",
      "{'audio_file': '/home/stanislavv/data/libritts/LibriTTS/train-other-500/6358/73329/6358_73329_000015_000007.wav', 'duration': 8.6, 'text': 'It was of silk, well worn; the mantle was clean, though faded; the laces carefully darned; in short, here were the rags of opulence.', 'offset': None, 'speaker': 6358, 'id': 188029}\n",
      "{'audio_file': '/home/stanislavv/data/libritts/LibriTTS/train-other-500/6358/73329/6358_73329_000062_000000.wav', 'duration': 4.9, 'text': '\"But, Monsieur, we have no priest here,\" cried Sister Martha, hastily, \"and-\"', 'offset': None, 'speaker': 6358, 'id': 188030}\n",
      "{'audio_file': '/home/stanislavv/data/libritts/LibriTTS/train-other-500/6358/73329/6358_73329_000092_000004.wav', 'duration': 0.820083, 'text': 'Remain here.', 'offset': None, 'speaker': 6358, 'id': 188031}\n",
      "{'audio_file': '/home/stanislavv/data/libritts/LibriTTS/train-other-500/6358/73329/6358_73329_000072_000002.wav', 'duration': 10.13, 'text': 'The ecclesiastic looked intently at the stranger; unequivocal anxiety was marked on every feature, and his eyes offered an earnest and even ardent prayer.', 'offset': None, 'speaker': 6358, 'id': 188032}\n",
      "{'audio_file': '/home/stanislavv/data/libritts/LibriTTS/train-other-500/6358/73329/6358_73329_000100_000002.wav', 'duration': 3.409917, 'text': 'The room was prepared for the service; the altar was dressed.', 'offset': None, 'speaker': 6358, 'id': 188033}\n",
      "{'audio_file': '/home/stanislavv/data/libritts/LibriTTS/train-other-500/6358/73329/6358_73329_000073_000000.wav', 'duration': 1.960083, 'text': '\"Yes,\" said the priest at length.', 'offset': None, 'speaker': 6358, 'id': 188034}\n",
      "{'audio_file': '/home/stanislavv/data/libritts/LibriTTS/train-other-500/6358/73329/6358_73329_000037_000003.wav', 'duration': 6.770042, 'text': 'The eyes of the two women, fixed upon the old man, showed plainly that he alone was the object of their extreme anxiety.', 'offset': None, 'speaker': 6358, 'id': 188035}\n",
      "{'audio_file': '/home/stanislavv/data/libritts/LibriTTS/train-other-500/6358/73329/6358_73329_000003_000001.wav', 'duration': 4.06, 'text': 'Snow had fallen throughout the day, so that footfalls could be scarcely heard.', 'offset': None, 'speaker': 6358, 'id': 188036}\n",
      "{'audio_file': '/home/stanislavv/data/libritts/LibriTTS/train-other-500/6358/73329/6358_73329_000015_000000.wav', 'duration': 2.73, 'text': 'There is a poverty which poor people quickly divine.', 'offset': None, 'speaker': 6358, 'id': 188037}\n",
      "{'audio_file': '/home/stanislavv/data/libritts/LibriTTS/train-other-500/6358/73329/6358_73329_000090_000001.wav', 'duration': 12.47, 'text': 'We can only pay for inestimable things by offerings which are likewise beyond all price. Deign to accept, Monsieur, the gift which I now make to you of a holy relic; the day may come when you will know its value.\"', 'offset': None, 'speaker': 6358, 'id': 188038}\n",
      "{'audio_file': '/home/stanislavv/data/libritts/LibriTTS/train-other-500/6358/73329/6358_73329_000037_000002.wav', 'duration': 11.519958, 'text': 'Under the pressure of misfortune or the yoke of persecution a man of courage begins, as it were, by preparing for the sacrifice of himself: he looks upon his days as so many victories won from fate.', 'offset': None, 'speaker': 6358, 'id': 188039}\n",
      "{'audio_file': '/home/stanislavv/data/libritts/LibriTTS/train-other-500/6358/73329/6358_73329_000028_000001.wav', 'duration': 14.39, 'text': 'The shopkeeper almost instantly reappeared; but his face, red by nature and still further scorched by the fires of his bakery, had suddenly turned pale, and he was in the grasp of such terror that his legs shook and his eyes were like those of a drunken man.', 'offset': None, 'speaker': 6358, 'id': 188040}\n",
      "{'audio_file': '/home/stanislavv/data/libritts/LibriTTS/train-other-500/6358/73329/6358_73329_000075_000004.wav', 'duration': 10.180083, 'text': 'These feeble rays scarcely lit up the rest of the chamber, but as their light fell upon the sacred objects it seemed a halo falling from heaven upon the bare and undecorated altar.', 'offset': None, 'speaker': 6358, 'id': 188041}\n",
      "{'audio_file': '/home/stanislavv/data/libritts/LibriTTS/train-other-500/6358/73329/6358_73329_000080_000001.wav', 'duration': 12.470083, 'text': 'The \"Domine salvum fac regem,\" sung in low tones, touched the hearts of these faithful royalists as they thought of the infant king, now captive in the hands of his enemies, for whom this prayer was offered.', 'offset': None, 'speaker': 6358, 'id': 188042}\n",
      "{'audio_file': '/home/stanislavv/data/libritts/LibriTTS/train-other-500/6358/73329/6358_73329_000090_000000.wav', 'duration': 9.060083, 'text': '\"I should blush to offer you any fee whatever in acknowledgment of the funeral service you have just celebrated for the repose of the king\\'s soul and for the discharge of my conscience.', 'offset': None, 'speaker': 6358, 'id': 188043}\n",
      "{'audio_file': '/home/stanislavv/data/libritts/LibriTTS/train-other-500/6358/73329/6358_73329_000044_000000.wav', 'duration': 4.920042, 'text': '\"Shall you not follow us?\" said the two nuns softly, but in a tone of despair.', 'offset': None, 'speaker': 6358, 'id': 188044}\n",
      "{'audio_file': '/home/stanislavv/data/libritts/LibriTTS/train-other-500/6358/73329/6358_73329_000109_000000.wav', 'duration': 2.349875, 'text': '\"Who is that?\" he asked; \"the one standing-\"', 'offset': None, 'speaker': 6358, 'id': 188045}\n",
      "{'audio_file': '/home/stanislavv/data/libritts/LibriTTS/train-other-500/6358/73329/6358_73329_000033_000002.wav', 'duration': 9.089958, 'text': 'Each story had three windows whose frames, rotted by dampness and shrunken by the heat of the sun, told that the outer cold penetrated to the chambers.', 'offset': None, 'speaker': 6358, 'id': 188046}\n",
      "{'audio_file': '/home/stanislavv/data/libritts/LibriTTS/train-other-500/6358/73329/6358_73329_000015_000005.wav', 'duration': 5.56, 'text': 'Hunger and want were traced upon her features in lines as legible as those of timidity and ascetic habits.', 'offset': None, 'speaker': 6358, 'id': 188047}\n",
      "{'audio_file': '/home/stanislavv/data/libritts/LibriTTS/train-other-500/6358/73329/6358_73329_000031_000006.wav', 'duration': 7.61, 'text': 'Thus the old lady, receiving no injury from her apparent persecutor, began to think that he might be a secret friend watching to protect her.', 'offset': None, 'speaker': 6358, 'id': 188048}\n",
      "{'audio_file': '/home/stanislavv/data/libritts/LibriTTS/train-other-500/6358/73329/6358_73329_000052_000003.wav', 'duration': 6.040042, 'text': 'The stranger was very tall and stout, but nothing in his manner or appearance denoted that he was a bad man.', 'offset': None, 'speaker': 6358, 'id': 188049}\n",
      "{'audio_file': '/home/stanislavv/data/libritts/LibriTTS/train-other-500/6358/73329/6358_73329_000051_000000.wav', 'duration': 7.41, 'text': 'He was scarcely hidden when three knocks upon the door made the sisters tremble and consult each other with their eyes, for they dared not speak.', 'offset': None, 'speaker': 6358, 'id': 188050}\n",
      "{'audio_file': '/home/stanislavv/data/libritts/LibriTTS/train-other-500/6358/73329/6358_73329_000080_000000.wav', 'duration': 2.0, 'text': 'The Office of the Dead was recited.', 'offset': None, 'speaker': 6358, 'id': 188051}\n",
      "{'audio_file': '/home/stanislavv/data/libritts/LibriTTS/train-other-500/6358/73329/6358_73329_000053_000005.wav', 'duration': 4.39, 'text': 'Three chairs, two coffers, and a broken chest of drawers completed the furniture of the room.', 'offset': None, 'speaker': 6358, 'id': 188052}\n",
      "{'audio_file': '/home/stanislavv/data/libritts/LibriTTS/train-other-500/6358/73329/6358_73329_000026_000000.wav', 'duration': 1.67, 'text': '\"Suppose he should be a spy.', 'offset': None, 'speaker': 6358, 'id': 188053}\n",
      "{'audio_file': '/home/stanislavv/data/libritts/LibriTTS/train-other-500/6358/73329/6358_73329_000022_000000.wav', 'duration': 2.66, 'text': '\"Is that all?\" said the man with the phrygian cap.', 'offset': None, 'speaker': 6358, 'id': 188054}\n",
      "{'audio_file': '/home/stanislavv/data/libritts/LibriTTS/train-other-500/6358/73329/6358_73329_000087_000002.wav', 'duration': 12.680042, 'text': 'Oh, yes,\" added the venerable man, moving his head from right to left with an expressive motion; \"yes, heavy, indeed! for, standing idle, they made themselves the accomplices of a horrible transgression.\"', 'offset': None, 'speaker': 6358, 'id': 188055}\n",
      "{'audio_file': '/home/stanislavv/data/libritts/LibriTTS/train-other-500/6358/73329/6358_73329_000053_000000.wav', 'duration': 4.02, 'text': 'Two bundles of straw placed on two planks served as beds for the nuns.', 'offset': None, 'speaker': 6358, 'id': 188056}\n",
      "{'audio_file': '/home/stanislavv/data/libritts/LibriTTS/train-other-500/6358/73329/6358_73329_000031_000007.wav', 'duration': 12.989958, 'text': 'She gathered up in her mind the circumstances attending other apparitions of the mysterious stranger as if to find plausible grounds for this consoling opinion, and took pleasure in crediting him with good rather than sinister intentions.', 'offset': None, 'speaker': 6358, 'id': 188057}\n",
      "{'audio_file': '/home/stanislavv/data/libritts/LibriTTS/train-other-500/6358/73329/6358_73329_000046_000000.wav', 'duration': 3.400042, 'text': 'The nuns were silent, looking at him with devout admiration.', 'offset': None, 'speaker': 6358, 'id': 188058}\n",
      "{'audio_file': '/home/stanislavv/data/libritts/LibriTTS/train-other-500/6358/73329/6358_73329_000012_000001.wav', 'duration': 5.94, 'text': 'Seeing a phrygian cap upon his head, a cry escaped her:--\"Ah! it is you who have betrayed me!\"', 'offset': None, 'speaker': 6358, 'id': 188059}\n",
      "{'audio_file': '/home/stanislavv/data/libritts/LibriTTS/train-other-500/6358/73329/6358_73329_000069_000000.wav', 'duration': 4.99, 'text': '\"I cannot believe, Monsieur,\" he said courteously, \"that you are one of our persecutors.', 'offset': None, 'speaker': 6358, 'id': 188060}\n",
      "{'audio_file': '/home/stanislavv/data/libritts/LibriTTS/train-other-500/6358/73329/6358_73329_000061_000000.wav', 'duration': 2.430083, 'text': '\"That is not his name, I think,\" he answered.', 'offset': None, 'speaker': 6358, 'id': 188061}\n",
      "{'audio_file': '/home/stanislavv/data/libritts/LibriTTS/train-other-500/6358/73329/6358_73329_000106_000001.wav', 'duration': 1.560042, 'text': '\"What you say is not Christian.\"', 'offset': None, 'speaker': 6358, 'id': 188062}\n",
      "{'audio_file': '/home/stanislavv/data/libritts/LibriTTS/train-other-500/6358/73329/6358_73329_000098_000000.wav', 'duration': 5.25, 'text': 'The three prisoners soon perceived that, in spite of the Terror, a powerful arm was stretched over them.', 'offset': None, 'speaker': 6358, 'id': 188063}\n",
      "{'audio_file': '/home/stanislavv/data/libritts/LibriTTS/train-other-500/6358/73329/6358_73329_000092_000001.wav', 'duration': 3.199958, 'text': 'He is, however, secretly attached to the Bourbons.', 'offset': None, 'speaker': 6358, 'id': 188064}\n",
      "{'audio_file': '/home/stanislavv/data/libritts/LibriTTS/train-other-500/6358/73329/6358_73329_000032_000006.wav', 'duration': 6.56, 'text': 'Fear gave eyes to the old gentlewoman, who now fancied that she saw something sinister in the features of this unknown man.', 'offset': None, 'speaker': 6358, 'id': 188065}\n",
      "{'audio_file': '/home/stanislavv/data/libritts/LibriTTS/train-other-500/6358/73329/6358_73329_000076_000000.wav', 'duration': 1.200083, 'text': 'The floor was damp.', 'offset': None, 'speaker': 6358, 'id': 188066}\n",
      "{'audio_file': '/home/stanislavv/data/libritts/LibriTTS/train-other-500/6358/73329/6358_73329_000005_000002.wav', 'duration': 8.17, 'text': 'Then, without looking at the lady, she came rapidly from behind the counter, and went towards the back shop to call her husband, who appeared at once.', 'offset': None, 'speaker': 6358, 'id': 188067}\n",
      "{'audio_file': '/home/stanislavv/data/libritts/LibriTTS/train-other-500/6358/73329/6358_73329_000082_000000.wav', 'duration': 4.660042, 'text': '\"My son, if you have steeped your hands in the blood of the martyr king, confess yourself to me.', 'offset': None, 'speaker': 6358, 'id': 188068}\n",
      "{'audio_file': '/home/stanislavv/data/libritts/LibriTTS/train-other-500/6358/73329/6358_73329_000058_000001.wav', 'duration': 5.670042, 'text': 'The unknown gave vent to an expression of joy, mingled with melancholy, as he understood this gesture.', 'offset': None, 'speaker': 6358, 'id': 188069}\n",
      "{'audio_file': '/home/stanislavv/data/libritts/LibriTTS/train-other-500/6358/73329/6358_73329_000076_000005.wav', 'duration': 11.12, 'text': 'Close to this vase, which was a gift of royal munificence, the bread and wine of the consecrated sacrifice were contained in two glass tumblers scarcely worthy of the meanest tavern.', 'offset': None, 'speaker': 6358, 'id': 188070}\n",
      "{'audio_file': '/home/stanislavv/data/libritts/LibriTTS/train-other-500/6358/73329/6358_73329_000023_000002.wav', 'duration': 1.77, 'text': 'But the wife meantime had reflected.', 'offset': None, 'speaker': 6358, 'id': 188071}\n",
      "{'audio_file': '/home/stanislavv/data/libritts/LibriTTS/train-other-500/6358/73329/6358_73329_000038_000000.wav', 'duration': 4.589958, 'text': '\"Why distrust God, my sisters?\" he said, in a hollow but impressive voice.', 'offset': None, 'speaker': 6358, 'id': 188072}\n",
      "{'audio_file': '/home/stanislavv/data/libritts/LibriTTS/train-other-500/6358/73329/6358_73329_000100_000004.wav', 'duration': 5.419917, 'text': 'Mademoiselle de Langeais even went down a few stairs that she might catch the first glimpse of their benefactor.', 'offset': None, 'speaker': 6358, 'id': 188073}\n",
      "{'audio_file': '/home/stanislavv/data/libritts/LibriTTS/train-other-500/6358/73329/6358_73329_000051_000003.wav', 'duration': 8.429958, 'text': 'It is easy to imagine the species of imbecility which the events of the Revolution, enacted before their eyes, had produced in these innocent souls.', 'offset': None, 'speaker': 6358, 'id': 188074}\n",
      "{'audio_file': '/home/stanislavv/data/libritts/LibriTTS/train-other-500/6358/73329/6358_73329_000005_000000.wav', 'duration': 15.96, 'text': 'As she lifted the creaking latch of the door, a young woman, who was at work on a piece of embroidery, looked up and recognized through the glass panes the antiquated mantle of purple silk which wrapped the old lady, and hastened to pull open a drawer, as if to take from thence something that she had to give her.', 'offset': None, 'speaker': 6358, 'id': 188075}\n",
      "{'audio_file': '/home/stanislavv/data/libritts/LibriTTS/train-other-500/6358/73329/6358_73329_000026_000002.wav', 'duration': 0.78, 'text': \"Don't go.\", 'offset': None, 'speaker': 6358, 'id': 188076}\n",
      "{'audio_file': '/home/stanislavv/data/libritts/LibriTTS/train-other-500/6358/73329/6358_73329_000089_000000.wav', 'duration': 1.25, 'text': 'The priest hesitated.', 'offset': None, 'speaker': 6358, 'id': 188077}\n",
      "{'audio_file': '/home/stanislavv/data/libritts/LibriTTS/train-other-500/6358/73329/6358_73329_000075_000000.wav', 'duration': 12.050042, 'text': 'Two hours later the stranger returned, knocked cautiously at the door of the garret, and was admitted by Mademoiselle de Langeais, who led him to the inner chamber of the humble refuge, where all was in readiness for the ceremony.', 'offset': None, 'speaker': 6358, 'id': 188078}\n",
      "{'audio_file': '/home/stanislavv/data/libritts/LibriTTS/train-other-500/6358/73329/6358_73329_000100_000001.wav', 'duration': 3.23, 'text': 'At midnight the heavy steps resounded up the wooden stairway.', 'offset': None, 'speaker': 6358, 'id': 188079}\n",
      "{'audio_file': '/home/stanislavv/data/libritts/LibriTTS/train-other-500/6358/73329/6358_73329_000051_000005.wav', 'duration': 7.030042, 'text': 'So it happened that in presence of immediate danger they were dumb and passive, and could think of no other defence than Christian resignation.', 'offset': None, 'speaker': 6358, 'id': 188080}\n",
      "{'audio_file': '/home/stanislavv/data/libritts/LibriTTS/train-other-500/6358/73329/6358_73329_000074_000000.wav', 'duration': 6.030042, 'text': 'The unknown shivered; a joy both sweet and solemn seemed to rise in his soul above some secret grief.', 'offset': None, 'speaker': 6358, 'id': 188081}\n",
      "{'audio_file': '/home/stanislavv/data/libritts/LibriTTS/train-other-500/6358/73329/6358_73329_000076_000001.wav', 'duration': 12.270042, 'text': 'The attic roof, which sloped sharply on both sides of the room, was full of chinks through which the wind penetrated. Nothing could be less stately, yet nothing was ever more solemn than this lugubrious ceremony.', 'offset': None, 'speaker': 6358, 'id': 188082}\n",
      "{'audio_file': '/home/stanislavv/data/libritts/LibriTTS/train-other-500/6358/73329/6358_73329_000099_000001.wav', 'duration': 13.069833, 'text': 'The circumstances attending the appearance of the stranger were a ceaseless topic of conversation and of endless conjecture, and soon became a benefit of a special kind, from the occupation and distraction of mind which was thus produced.', 'offset': None, 'speaker': 6358, 'id': 188083}\n",
      "{'audio_file': '/home/stanislavv/data/libritts/LibriTTS/train-other-500/6358/73329/6358_73329_000003_000002.wav', 'duration': 1.27, 'text': 'The streets were deserted.', 'offset': None, 'speaker': 6358, 'id': 188084}\n",
      "{'audio_file': '/home/stanislavv/data/libritts/LibriTTS/train-other-500/6358/73329/6358_73329_000004_000000.wav', 'duration': 1.43, 'text': 'The old lady had met no one.', 'offset': None, 'speaker': 6358, 'id': 188085}\n",
      "{'audio_file': '/home/stanislavv/data/libritts/LibriTTS/train-other-500/6358/73329/6358_73329_000020_000000.wav', 'duration': 2.96, 'text': '\"The devil is not so black as he is painted,\" cried the husband.', 'offset': None, 'speaker': 6358, 'id': 188086}\n",
      "{'audio_file': '/home/stanislavv/data/libritts/LibriTTS/train-other-500/6358/73329/6358_73329_000094_000003.wav', 'duration': 2.769917, 'text': 'As she unfolded it they saw dark stains.', 'offset': None, 'speaker': 6358, 'id': 188087}\n",
      "{'audio_file': '/home/stanislavv/data/libritts/LibriTTS/train-other-500/6358/73329/6358_73329_000083_000000.wav', 'duration': 9.930042, 'text': 'At the first words of the ecclesiastic an involuntary motion of terror escaped the stranger; but he quickly recovered himself, and looked at the astonished priest with calm assurance.', 'offset': None, 'speaker': 6358, 'id': 188088}\n",
      "{'audio_file': '/home/stanislavv/data/libritts/LibriTTS/train-other-500/6358/73329/6358_73329_000092_000002.wav', 'duration': 5.400042, 'text': 'He was formerly huntsman to Monseigneur the Prince de Conti, to whom he owes everything.', 'offset': None, 'speaker': 6358, 'id': 188089}\n",
      "{'audio_file': '/home/stanislavv/data/libritts/LibriTTS/train-other-500/6358/73329/6358_73329_000049_000000.wav', 'duration': 7.539958, 'text': 'This time it was easy to hear the steps of a man sounding through the deep silence on the rough stairs, which were caked with patches of hardened mud.', 'offset': None, 'speaker': 6358, 'id': 188090}\n",
      "{'audio_file': '/home/stanislavv/data/libritts/LibriTTS/train-other-500/6358/73329/6358_73329_000010_000001.wav', 'duration': 4.76, 'text': 'Her eyes were fixed on the glass of the shop window, as if some alarming object were painted upon it.', 'offset': None, 'speaker': 6358, 'id': 188091}\n",
      "{'audio_file': '/home/stanislavv/data/libritts/LibriTTS/train-other-500/6358/73329/6358_73329_000087_000000.wav', 'duration': 6.340083, 'text': '\"Reflect, my son, that something more than taking no part in that great crime is needed to absolve from guilt.', 'offset': None, 'speaker': 6358, 'id': 188092}\n",
      "{'audio_file': '/home/stanislavv/data/libritts/LibriTTS/train-other-500/6358/73329/6358_73329_000088_000000.wav', 'duration': 6.130042, 'text': '\"Do you believe,\" asked the stranger, in a surprised tone, \"that even an indirect participation will be punished?', 'offset': None, 'speaker': 6358, 'id': 188093}\n",
      "{'audio_file': '/home/stanislavv/data/libritts/LibriTTS/train-other-500/6358/73329/6358_73329_000015_000003.wav', 'duration': 5.55, 'text': 'The hands of the poor woman trembled as she offered it, and her eyes rested upon it sadly, yet not with avarice.', 'offset': None, 'speaker': 6358, 'id': 188094}\n",
      "{'audio_file': '/home/stanislavv/data/libritts/LibriTTS/train-other-500/6358/73329/6358_73329_000071_000000.wav', 'duration': 10.12, 'text': '\"My father, I came to ask you to celebrate a mass for the repose of the soul-of-of a sacred being whose body can never lie in holy ground.\"', 'offset': None, 'speaker': 6358, 'id': 188095}\n",
      "{'audio_file': '/home/stanislavv/data/libritts/LibriTTS/train-other-500/6358/73329/6358_73329_000070_000000.wav', 'duration': 7.580083, 'text': 'The saintly confidence of the old man, and the nobility of mind imprinted on his countenance, might have disarmed even an assassin.', 'offset': None, 'speaker': 6358, 'id': 188096}\n",
      "{'audio_file': '/home/stanislavv/data/libritts/LibriTTS/train-other-500/6358/73329/6358_73329_000088_000001.wav', 'duration': 2.969958, 'text': 'The soldier ordered to form the line-do you think he was guilty?\"', 'offset': None, 'speaker': 6358, 'id': 188097}\n",
      "{'audio_file': '/home/stanislavv/data/libritts/LibriTTS/train-other-500/6358/73329/6358_73329_000050_000000.wav', 'duration': 3.899958, 'text': '\"You can shut me in, Sister Agatha,\" he said, in a smothered voice.', 'offset': None, 'speaker': 6358, 'id': 188098}\n",
      "{'audio_file': '/home/stanislavv/data/libritts/LibriTTS/train-other-500/6358/73329/6358_73329_000096_000000.wav', 'duration': 2.85, 'text': '\"It is marked with the royal crown!\" cried the other nun.', 'offset': None, 'speaker': 6358, 'id': 188099}\n",
      "{'audio_file': '/home/stanislavv/data/libritts/LibriTTS/train-other-500/6358/73329/6358_73329_000031_000003.wav', 'duration': 9.25, 'text': 'Presently she continued her walk slowly; the man measured his step by hers, and kept at the same distance behind her; he seemed to move like her shadow.', 'offset': None, 'speaker': 6358, 'id': 188100}\n",
      "{'audio_file': '/home/stanislavv/data/libritts/LibriTTS/train-other-500/6358/73329/6358_73329_000006_000000.wav', 'duration': 7.67, 'text': '\"Where have you put ---- ----?\" she asked him, mysteriously, calling his attention to the old lady by a glance, and not concluding her sentence.', 'offset': None, 'speaker': 6358, 'id': 188101}\n",
      "{'audio_file': '/home/stanislavv/data/libritts/LibriTTS/train-other-500/6358/73329/6358_73329_000051_000004.wav', 'duration': 17.360083, 'text': 'Quite incapable of harmonizing their conventual ideas with the exigencies of ordinary life, not even comprehending their own situation, they were like children who had always been cared for, and who now, torn from their maternal providence, had taken to prayers as other children take to tears.', 'offset': None, 'speaker': 6358, 'id': 188102}\n",
      "{'audio_file': '/home/stanislavv/data/libritts/LibriTTS/train-other-500/6358/73329/6358_73329_000032_000003.wav', 'duration': 3.68, 'text': 'This dismal region seems the natural home of poverty and despair.', 'offset': None, 'speaker': 6358, 'id': 188103}\n",
      "{'audio_file': '/home/stanislavv/data/libritts/LibriTTS/train-other-500/6358/73329/6358_73329_000058_000002.wav', 'duration': 3.340083, 'text': 'He waited respectfully till the sisters were seated, and then obeyed it.', 'offset': None, 'speaker': 6358, 'id': 188104}\n",
      "{'audio_file': '/home/stanislavv/data/libritts/LibriTTS/train-other-500/6358/73329/6358_73329_000091_000002.wav', 'duration': 3.09, 'text': 'They re-entered the outer room, where the two nuns were waiting for them.', 'offset': None, 'speaker': 6358, 'id': 188105}\n",
      "{'audio_file': '/home/stanislavv/data/libritts/LibriTTS/train-other-500/6358/73329/6358_73329_000080_000002.wav', 'duration': 6.960083, 'text': 'The unknown shuddered; perhaps he feared an impending crime in which he would be called to take an unwilling part.', 'offset': None, 'speaker': 6358, 'id': 188106}\n",
      "{'audio_file': '/home/stanislavv/data/libritts/LibriTTS/train-other-500/6358/73329/6358_73329_000069_000001.wav', 'duration': 0.819958, 'text': 'I trust you.', 'offset': None, 'speaker': 6358, 'id': 188107}\n",
      "{'audio_file': '/home/stanislavv/data/libritts/LibriTTS/train-other-500/6358/73329/6358_73329_000023_000004.wav', 'duration': 14.63, 'text': 'Uneasy, and alarmed lest her husband should be mixed up in some dangerous affair, she pulled him by the flap of his coat, intending to stop him; but the worthy man, obeying the impulse of charity, promptly offered to escort the poor lady to her home.', 'offset': None, 'speaker': 6358, 'id': 188108}\n",
      "{'audio_file': '/home/stanislavv/data/libritts/LibriTTS/train-other-500/6358/73329/6358_73329_000027_000000.wav', 'duration': 5.94, 'text': '\"Well, well, I will just say two words to the man and get rid of him,\" he said, opening the door and hurrying out.', 'offset': None, 'speaker': 6358, 'id': 188109}\n",
      "{'audio_file': '/home/stanislavv/data/libritts/LibriTTS/train-other-500/6358/73329/6358_73329_000092_000003.wav', 'duration': 5.09, 'text': 'As long as you stay in this house you are in greater safety than you can be in any other part of France.', 'offset': None, 'speaker': 6358, 'id': 188110}\n",
      "{'audio_file': '/home/stanislavv/data/libritts/LibriTTS/train-other-500/6358/73329/6358_73329_000031_000000.wav', 'duration': 11.069917, 'text': 'As soon as the poor lady found herself alone in the street she began to walk rapidly; but her strength soon gave way, for she once more heard the snow creaking under the footsteps of the spy as he trod heavily upon it.', 'offset': None, 'speaker': 6358, 'id': 188111}\n",
      "{'audio_file': '/home/stanislavv/data/libritts/LibriTTS/train-other-500/6358/73329/6358_73329_000097_000000.wav', 'duration': 3.38, 'text': 'The sisters let fall the precious relic with gestures of horror.', 'offset': None, 'speaker': 6358, 'id': 188112}\n",
      "{'audio_file': '/home/stanislavv/data/libritts/LibriTTS/train-other-500/6358/73329/6358_73329_000032_000007.wav', 'duration': 12.79, 'text': 'All her terrors revived, and profiting by the curious hesitation that had seized him, she glided like a shadow to the doorway of the solitary dwelling, touched a spring, and disappeared with phantasmagoric rapidity.', 'offset': None, 'speaker': 6358, 'id': 188113}\n",
      "{'audio_file': '/home/stanislavv/data/libritts/LibriTTS/train-other-500/6358/73329/6358_73329_000113_000000.wav', 'duration': 6.899917, 'text': '\"He must have given me,\" said the old priest, \"the handkerchief with which the king wiped his brow as he went to his martyrdom.', 'offset': None, 'speaker': 6358, 'id': 188114}\n",
      "{'audio_file': '/home/stanislavv/data/libritts/LibriTTS/train-other-500/6358/73329/6358_73329_000043_000000.wav', 'duration': 3.539958, 'text': '\"Do not be frightened,\" said the priest, \"even if some one asks to enter.', 'offset': None, 'speaker': 6358, 'id': 188115}\n",
      "{'audio_file': '/home/stanislavv/data/libritts/LibriTTS/train-other-500/6358/73329/6358_73329_000004_000007.wav', 'duration': 3.6, 'text': 'The hope of escaping such a spy lent strength to her feeble limbs.', 'offset': None, 'speaker': 6358, 'id': 188116}\n",
      "{'audio_file': '/home/stanislavv/data/libritts/LibriTTS/train-other-500/6358/73329/6358_73329_000033_000006.wav', 'duration': 6.72, 'text': 'She knocked furtively at the door of a lodging under the roof, and sat hastily down on a chair which an old man offered her.', 'offset': None, 'speaker': 6358, 'id': 188117}\n",
      "{'audio_file': '/home/stanislavv/data/libritts/LibriTTS/train-other-500/6358/73329/6358_73329_000024_000000.wav', 'duration': 5.2, 'text': '\"It seems that the man who has given her this fright is prowling outside,\" said his wife nervously.', 'offset': None, 'speaker': 6358, 'id': 188118}\n",
      "{'audio_file': '/home/stanislavv/data/libritts/LibriTTS/train-other-500/6358/73329/6358_73329_000008_000000.wav', 'duration': 9.89, 'text': 'Surprised at the silence and immobility of her customer, the wife came forward, and was seized with a sudden movement of compassion as well as of curiosity when she looked at her.', 'offset': None, 'speaker': 6358, 'id': 188119}\n",
      "{'audio_file': '/home/stanislavv/data/libritts/LibriTTS/train-other-500/6358/73329/6358_73329_000034_000000.wav', 'duration': 2.15, 'text': '\"Hide! hide yourself!\" she cried.', 'offset': None, 'speaker': 6358, 'id': 188120}\n",
      "{'audio_file': '/home/stanislavv/data/libritts/LibriTTS/train-other-500/6358/73329/6358_73329_000089_000001.wav', 'duration': 20.14, 'text': 'Glad of the dilemma that placed this puritan of royalty between the dogma of passive obedience, which according to the partisans of monarchy should dominate the military system, and the other dogma, equally imperative, which consecrates the person of the king, the stranger hastened to accept the hesitation of the priest as a solution of the doubts that seemed to trouble him.', 'offset': None, 'speaker': 6358, 'id': 188121}\n",
      "{'audio_file': '/home/stanislavv/data/libritts/LibriTTS/train-other-500/6358/73329/6358_73329_000072_000000.wav', 'duration': 2.050042, 'text': 'The priest involuntarily shuddered.', 'offset': None, 'speaker': 6358, 'id': 188122}\n",
      "{'audio_file': '/home/stanislavv/data/libritts/LibriTTS/train-other-500/6358/73329/6358_73329_000086_000000.wav', 'duration': 14.280042, 'text': 'He paused a moment, during which he examined afresh his penitent; then, persisting in the belief that he was one of those timid members of the Assembly who sacrificed the inviolate and sacred head to save their own, he resumed in a grave voice:--', 'offset': None, 'speaker': 6358, 'id': 188123}\n",
      "{'audio_file': '/home/stanislavv/data/libritts/LibriTTS/train-other-500/6358/73329/6358_73329_000012_000000.wav', 'duration': 5.96, 'text': '\"It is nothing, nothing, my friends,\" she answered in a gentle voice, as she raised her eyes to give the man a thankful look.', 'offset': None, 'speaker': 6358, 'id': 188124}\n",
      "{'audio_file': '/home/stanislavv/data/libritts/LibriTTS/train-other-500/6358/73329/6358_73329_000013_000000.wav', 'duration': 10.46, 'text': 'The young woman and her husband replied by a deprecating gesture of horror which caused the unknown lady to blush, either for her harsh suspicion or from the relief of feeling it unjust.', 'offset': None, 'speaker': 6358, 'id': 188125}\n",
      "{'audio_file': '/home/stanislavv/data/libritts/LibriTTS/train-other-500/6358/73329/6358_73329_000100_000003.wav', 'duration': 3.839833, 'text': 'This time the sisters opened the door and hastened to light the entrance.', 'offset': None, 'speaker': 6358, 'id': 188126}\n",
      "{'audio_file': '/home/stanislavv/data/libritts/LibriTTS/train-other-500/6358/73329/6358_73329_000077_000005.wav', 'duration': 6.13, 'text': 'It was the purest of all devotions; an act of wonderful loyalty accomplished without one thought of self.', 'offset': None, 'speaker': 6358, 'id': 188127}\n",
      "{'audio_file': '/home/stanislavv/data/libritts/LibriTTS/train-other-500/6358/73329/6358_73329_000004_000004.wav', 'duration': 7.94, 'text': 'When well beyond the horizontal rays of light thrown across the pavement, she turned abruptly and saw a human form looming through the fog.', 'offset': None, 'speaker': 6358, 'id': 188128}\n",
      "{'audio_file': '/home/stanislavv/data/libritts/LibriTTS/train-other-500/6358/73329/6358_73329_000101_000001.wav', 'duration': 1.5, 'text': '\"Come, you are expected!\"', 'offset': None, 'speaker': 6358, 'id': 188129}\n",
      "{'audio_file': '/home/stanislavv/data/libritts/LibriTTS/train-other-500/6358/73329/6358_73329_000014_000002.wav', 'duration': 2.65, 'text': '\"Here is the sum we agreed upon,\" she added.', 'offset': None, 'speaker': 6358, 'id': 188130}\n",
      "{'audio_file': '/home/stanislavv/data/libritts/LibriTTS/train-other-500/6358/73329/6358_73329_000098_000005.wav', 'duration': 6.75, 'text': 'They prayed that God would keep his feet from snares and save him from his enemies, and grant him a long and peaceful life.', 'offset': None, 'speaker': 6358, 'id': 188131}\n",
      "{'audio_file': '/home/stanislavv/data/libritts/LibriTTS/train-other-500/6358/73329/6358_73329_000008_000001.wav', 'duration': 11.17, 'text': 'Though the complexion of the old gentlewoman was naturally livid, like that of a person vowed to secret austerities, it was easy to see that some recent alarm had spread an unusual paleness over her features.', 'offset': None, 'speaker': 6358, 'id': 188132}\n",
      "{'audio_file': '/home/stanislavv/data/libritts/LibriTTS/train-other-500/6358/73329/6358_73329_000055_000001.wav', 'duration': 1.76, 'text': 'I have come to ask a favor of you.\"', 'offset': None, 'speaker': 6358, 'id': 188133}\n",
      "{'audio_file': '/home/stanislavv/data/libritts/LibriTTS/train-other-500/6358/73329/6358_73329_000095_000000.wav', 'duration': 2.63, 'text': '\"That is blood!\" exclaimed the priest.', 'offset': None, 'speaker': 6358, 'id': 188134}\n",
      "{'audio_file': '/home/stanislavv/data/libritts/LibriTTS/train-other-500/6358/73329/6358_73329_000076_000006.wav', 'duration': 4.579958, 'text': 'In default of a missal the priest had placed his breviary on a corner of the altar.', 'offset': None, 'speaker': 6358, 'id': 188135}\n",
      "{'audio_file': '/home/stanislavv/data/libritts/LibriTTS/train-other-500/6358/73329/6358_73329_000031_000002.wav', 'duration': 6.170042, 'text': 'She dared not speak to him, nor even look at him; either because of her terror, or from some lack of natural intelligence.', 'offset': None, 'speaker': 6358, 'id': 188136}\n",
      "{'audio_file': '/home/stanislavv/data/libritts/LibriTTS/train-other-500/6358/73329/6358_73329_000076_000003.wav', 'duration': 7.49, 'text': 'The grandeur of the occasion contrasted vividly with the poverty of its circumstances, and roused a feeling of religious terror.', 'offset': None, 'speaker': 6358, 'id': 188137}\n",
      "{'audio_file': '/home/stanislavv/data/libritts/LibriTTS/train-other-500/6358/73329/6358_73329_000004_000001.wav', 'duration': 7.67, 'text': 'Her failing sight hindered her from perceiving in the distance a few pedestrians, sparsely scattered like shadows, along the broad road of the faubourg.', 'offset': None, 'speaker': 6358, 'id': 188138}\n",
      "{'audio_file': '/home/stanislavv/data/libritts/LibriTTS/train-other-500/6358/73329/6358_73329_000097_000001.wav', 'duration': 9.440042, 'text': 'To these ingenuous souls the mystery that wrapped their unknown visitor became inexplicable, and the priest from that day forth forbade himself to search for its solution.', 'offset': None, 'speaker': 6358, 'id': 188139}\n",
      "{'audio_file': '/home/stanislavv/data/libritts/LibriTTS/train-other-500/6358/73329/6358_73329_000054_000001.wav', 'duration': 7.660042, 'text': 'An expression of pity crossed his features, and as he threw a kind glance upon the frightened women he seemed as much embarrassed as they.', 'offset': None, 'speaker': 6358, 'id': 188140}\n",
      "{'audio_file': '/home/stanislavv/data/libritts/LibriTTS/train-other-500/6358/73329/6358_73329_000033_000003.wav', 'duration': 4.04, 'text': 'The lonely house seemed like an ancient tower that time had forgotten to destroy.', 'offset': None, 'speaker': 6358, 'id': 188141}\n",
      "{'audio_file': '/home/stanislavv/data/libritts/LibriTTS/train-other-500/6358/73329/6358_73329_000049_000001.wav', 'duration': 5.849958, 'text': 'The priest slid with difficulty into a narrow hiding place, and the nuns hastily threw articles of apparel over him.', 'offset': None, 'speaker': 6358, 'id': 188142}\n",
      "{'audio_file': '/home/stanislavv/data/libritts/LibriTTS/train-other-500/6358/73329/6358_73329_000057_000001.wav', 'duration': 4.48, 'text': 'I, and I alone, perhaps, am above law-since there is no longer a king.\"', 'offset': None, 'speaker': 6358, 'id': 188143}\n",
      "{'audio_file': '/home/stanislavv/data/libritts/LibriTTS/train-other-500/6358/73329/6358_73329_000070_000001.wav', 'duration': 10.909917, 'text': 'He who thus mysteriously agitated this home of penury and resignation stood contemplating the group before him; then he addressed the priest in a trustful tone, with these words:--', 'offset': None, 'speaker': 6358, 'id': 188144}\n",
      "{'audio_file': '/home/stanislavv/data/libritts/LibriTTS/train-other-500/6358/73329/6358_73329_000094_000000.wav', 'duration': 4.430042, 'text': 'To the two simple minded women this event had all the interest of a romance.', 'offset': None, 'speaker': 6358, 'id': 188145}\n",
      "{'audio_file': '/home/stanislavv/data/libritts/LibriTTS/train-other-500/6358/73329/6358_73329_000052_000001.wav', 'duration': 7.460042, 'text': 'The two nuns trembled when they recognized the individual who for some days had watched the house and seemed to make inquiries about its inmates.', 'offset': None, 'speaker': 6358, 'id': 188146}\n",
      "{'audio_file': '/home/stanislavv/data/libritts/LibriTTS/train-other-500/6358/73329/6358_73329_000102_000000.wav', 'duration': 9.949917, 'text': 'The man raised his head, gave the nun a gloomy look, and made no answer. She felt as though an icy garment had fallen upon her, and she kept silence.', 'offset': None, 'speaker': 6358, 'id': 188147}\n",
      "{'audio_file': '/home/stanislavv/data/libritts/LibriTTS/train-other-500/6358/73329/6358_73329_000033_000000.wav', 'duration': 6.76, 'text': 'The man, standing motionless, gazed at the house, which was, as it were, a type of the wretched buildings of the neighborhood.', 'offset': None, 'speaker': 6358, 'id': 188148}\n",
      "{'audio_file': '/home/stanislavv/data/libritts/LibriTTS/train-other-500/6358/73329/6358_73329_000004_000005.wav', 'duration': 1.98, 'text': 'The indistinct glimpse was enough.', 'offset': None, 'speaker': 6358, 'id': 188149}\n",
      "{'audio_file': '/home/stanislavv/data/libritts/LibriTTS/train-other-500/6358/73329/6358_73329_000053_000002.wav', 'duration': 6.420042, 'text': 'The fire on the hearth was very low, and a few sticks of wood piled in a corner of the room testified to the poverty of the occupants.', 'offset': None, 'speaker': 6358, 'id': 188150}\n",
      "{'audio_file': '/home/stanislavv/data/libritts/LibriTTS/train-other-500/6358/73329/6358_73329_000004_000003.wav', 'duration': 13.51, 'text': 'The thought seized her mind that she had been listening to it unconsciously for some time. Terrified at the idea of being followed, she tried to walk faster to reach a lighted shop window, and settle the doubt which thus assailed her.', 'offset': None, 'speaker': 6358, 'id': 188151}\n",
      "{'audio_file': '/home/stanislavv/data/libritts/LibriTTS/train-other-500/6358/73329/6358_73329_000035_000000.wav', 'duration': 3.389958, 'text': '\"What has happened?\" asked another old woman sitting near the fire.', 'offset': None, 'speaker': 6358, 'id': 188152}\n",
      "{'audio_file': '/home/stanislavv/data/libritts/LibriTTS/train-other-500/6358/73329/6358_73329_000089_000002.wav', 'duration': 4.85, 'text': 'Then, so as not to allow the old Jansenist time for further reflection, he said quickly:--', 'offset': None, 'speaker': 6358, 'id': 188153}\n",
      "{'audio_file': '/home/stanislavv/data/libritts/LibriTTS/train-other-500/6358/73329/6358_73329_000100_000000.wav', 'duration': 3.389875, 'text': 'That night, so impatiently awaited, came at length.', 'offset': None, 'speaker': 6358, 'id': 188154}\n",
      "{'audio_file': '/home/stanislavv/data/libritts/LibriTTS/train-other-500/6358/73329/6358_73329_000023_000003.wav', 'duration': 4.68, 'text': 'Reflection, as often happens in many hearts, had closed the open hand of her benevolence.', 'offset': None, 'speaker': 6358, 'id': 188155}\n",
      "{'audio_file': '/home/stanislavv/data/libritts/LibriTTS/train-other-500/6358/73329/6358_73329_000003_000003.wav', 'duration': 6.13, 'text': 'The natural fear inspired by such stillness was deepened by the terror to which all France was then a prey.', 'offset': None, 'speaker': 6358, 'id': 188156}\n",
      "{'audio_file': '/home/stanislavv/data/libritts/LibriTTS/train-other-500/6358/73329/6358_73329_000055_000000.wav', 'duration': 7.520042, 'text': 'Then he paused, but resumed:--\"My sisters, if harm should ever happen to you, be sure that I shall not have contributed to it.', 'offset': None, 'speaker': 6358, 'id': 188157}\n",
      "{'audio_file': '/home/stanislavv/data/libritts/LibriTTS/train-other-500/6358/73329/6358_73329_000073_000001.wav', 'duration': 8.090083, 'text': '\"Return here at midnight, and I shall be ready to celebrate the only funeral service that we are able to offer in expiation of the crime of which you speak.\"', 'offset': None, 'speaker': 6358, 'id': 188158}\n",
      "{'audio_file': '/home/stanislavv/data/libritts/LibriTTS/train-other-500/6358/73329/6358_73329_000094_000002.wav', 'duration': 6.25, 'text': 'Mademoiselle de Langeais opened the box and took from it a handkerchief of extreme fineness, stained with sweat.', 'offset': None, 'speaker': 6358, 'id': 188159}\n",
      "{'audio_file': '/home/stanislavv/data/libritts/LibriTTS/train-other-500/6358/73329/6358_73329_000038_000002.wav', 'duration': 6.260042, 'text': 'If it pleased him to save me from that butchery, it was doubtless for some destiny which I shall accept without a murmur.', 'offset': None, 'speaker': 6358, 'id': 188160}\n",
      "{'audio_file': '/home/stanislavv/data/libritts/LibriTTS/train-other-500/6358/73329/6358_73329_000042_000001.wav', 'duration': 1.209958, 'text': 'The noise ceased.', 'offset': None, 'speaker': 6358, 'id': 188161}\n",
      "{'audio_file': '/home/stanislavv/data/libritts/LibriTTS/train-other-500/6358/73329/6358_73329_000017_000000.wav', 'duration': 4.26, 'text': '\"Would Madame like to take something?\" asked the wife, cutting short her husband\\'s speech.', 'offset': None, 'speaker': 6358, 'id': 188162}\n",
      "{'audio_file': '/home/stanislavv/data/libritts/LibriTTS/train-other-500/6358/73329/6358_73329_000081_000000.wav', 'duration': 5.0, 'text': 'When the service was over, the priest made a sign to the nuns, who withdrew to the outer room.', 'offset': None, 'speaker': 6358, 'id': 188163}\n",
      "{'audio_file': '/home/stanislavv/data/libritts/LibriTTS/train-other-500/6358/73329/6358_73329_000102_000002.wav', 'duration': 6.449958, 'text': 'They saw that this mysterious being was resolved to remain a stranger to them, and they acquiesced with resignation.', 'offset': None, 'speaker': 6358, 'id': 188164}\n",
      "{'audio_file': '/home/stanislavv/data/libritts/LibriTTS/train-other-500/6358/73329/6358_73329_000037_000000.wav', 'duration': 4.21, 'text': 'At these words the occupants of the hovel looked at each other with terror in their faces.', 'offset': None, 'speaker': 6358, 'id': 188165}\n",
      "{'audio_file': '/home/stanislavv/data/libritts/LibriTTS/train-other-500/6358/73329/6358_73329_000077_000003.wav', 'duration': 9.13, 'text': 'It seemed as though their thought had evoked from the dead the sacred martyr whose body was devoured by quicklime, but whose shade rose up before them in royal majesty.', 'offset': None, 'speaker': 6358, 'id': 188166}\n",
      "{'audio_file': '/home/stanislavv/data/libritts/LibriTTS/train-other-500/6358/73329/6358_73329_000107_000000.wav', 'duration': 3.329833, 'text': '\"But this is the execution of the accomplices of Robespierre.', 'offset': None, 'speaker': 6358, 'id': 188167}\n",
      "{'audio_file': '/home/stanislavv/data/libritts/LibriTTS/train-other-500/6358/73329/6358_73329_000004_000008.wav', 'duration': 7.25, 'text': 'Incapable of reasoning, she quickened her steps to a run, as if it were possible to escape a man necessarily more agile than she.', 'offset': None, 'speaker': 6358, 'id': 188168}\n",
      "{'audio_file': '/home/stanislavv/data/libritts/LibriTTS/train-other-500/6358/73329/6358_73329_000102_000003.wav', 'duration': 7.5, 'text': \"But the priest fancied he saw a smile, quickly repressed, upon the stranger's lip as he saw the preparations made to receive him.\", 'offset': None, 'speaker': 6358, 'id': 188169}\n",
      "{'audio_file': '/home/stanislavv/data/libritts/LibriTTS/train-other-500/6358/73329/6358_73329_000077_000001.wav', 'duration': 17.820083, 'text': 'Suddenly, as he caught sight of the crape upon the chalice and the crucifix,--for in default of other means of proclaiming the object of this funeral rite the priest had put God himself into mourning,--the mysterious visitant was seized by some all powerful recollection, and drops of sweat gathered on his brow.', 'offset': None, 'speaker': 6358, 'id': 188170}\n",
      "{'audio_file': '/home/stanislavv/data/libritts/LibriTTS/train-other-500/6358/73329/6358_73329_000056_000000.wav', 'duration': 1.73, 'text': 'They still kept silence.', 'offset': None, 'speaker': 6358, 'id': 188171}\n",
      "{'audio_file': '/home/stanislavv/data/libritts/LibriTTS/train-other-500/6358/73329/6358_73329_000031_000001.wav', 'duration': 3.55, 'text': 'She was obliged to stop short: the man stopped also.', 'offset': None, 'speaker': 6358, 'id': 188172}\n",
      "{'audio_file': '/home/stanislavv/data/libritts/LibriTTS/train-other-500/6358/73329/6358_73329_000014_000000.wav', 'duration': 2.54, 'text': '\"Excuse me,\" she said, with childlike sweetness.', 'offset': None, 'speaker': 6358, 'id': 188173}\n",
      "{'audio_file': '/home/stanislavv/data/libritts/LibriTTS/train-other-500/6358/73329/6358_73329_000034_000001.wav', 'duration': 3.67, 'text': '\"Though we go out so seldom, our errands are known, our steps are watched-\"', 'offset': None, 'speaker': 6358, 'id': 188174}\n",
      "{'audio_file': '/home/stanislavv/data/libritts/LibriTTS/train-other-500/6358/73329/6358_73329_000009_000000.wav', 'duration': 5.52, 'text': '\"Madame?\" she said, with involuntary respect, forgetting that the title was proscribed.', 'offset': None, 'speaker': 6358, 'id': 188175}\n",
      "{'audio_file': '/home/stanislavv/data/libritts/LibriTTS/train-other-500/6358/73329/6358_73329_000076_000008.wav', 'duration': 5.75, 'text': 'All was majestic and yet paltry; poor but noble; profane and holy in one.', 'offset': None, 'speaker': 6358, 'id': 188176}\n",
      "{'audio_file': '/home/stanislavv/data/libritts/LibriTTS/train-other-500/6358/73329/6358_73329_000032_000005.wav', 'duration': 8.38, 'text': 'He stopped as if reflecting, and stood in a hesitating attitude, dimly visible by a street lantern whose flickering light scarcely pierced the fog.', 'offset': None, 'speaker': 6358, 'id': 188177}\n",
      "{'audio_file': '/home/stanislavv/data/libritts/LibriTTS/train-other-500/6358/73329/6358_73329_000019_000000.wav', 'duration': 4.76, 'text': '\"It is so cold, perhaps Madame is chilled by her walk; but you can rest here and warm yourself.\"', 'offset': None, 'speaker': 6358, 'id': 188178}\n",
      "{'audio_file': '/home/stanislavv/data/libritts/LibriTTS/train-other-500/6358/73329/6358_73329_000008_000003.wav', 'duration': 8.1, 'text': 'The concealment of this natural adornment gave to her countenance a sort of conventual severity; but its features were grave and noble.', 'offset': None, 'speaker': 6358, 'id': 188179}\n",
      "{'audio_file': '/home/stanislavv/data/libritts/LibriTTS/train-other-500/6358/73329/6358_73329_000023_000001.wav', 'duration': 15.42, 'text': 'Then moved by a species of gratitude which slips into the shopkeeping soul when its owner receives an exorbitant price for an article of little value, he went to put on his uniform as a National guard, took his hat, slung on his sabre, and reappeared under arms.', 'offset': None, 'speaker': 6358, 'id': 188180}\n",
      "{'audio_file': '/home/stanislavv/data/libritts/LibriTTS/train-other-500/6358/73329/6358_73329_000093_000001.wav', 'duration': 6.22, 'text': 'Bowing to the silent occupants of the garret, he cast a last look upon the signs of their poverty and disappeared.', 'offset': None, 'speaker': 6358, 'id': 188181}\n",
      "{'audio_file': '/home/stanislavv/data/libritts/LibriTTS/train-other-500/6358/73329/6358_73329_000059_000000.wav', 'duration': 9.330083, 'text': '\"You have given shelter,\" he said, \"to a venerable priest not sworn in by the Republic, who escaped miraculously from the massacre at the Convent of the Carmelites.\"', 'offset': None, 'speaker': 6358, 'id': 188182}\n",
      "{'audio_file': '/home/stanislavv/data/libritts/LibriTTS/train-other-500/6358/73329/6358_73329_000052_000002.wav', 'duration': 6.900042, 'text': 'They stood quite still and looked at him with uneasy curiosity, like the children of savages examining a being of another sphere.', 'offset': None, 'speaker': 6358, 'id': 188183}\n",
      "{'audio_file': '/home/stanislavv/data/libritts/LibriTTS/train-other-500/6358/73329/6358_73329_000053_000003.wav', 'duration': 9.03, 'text': 'The walls, once covered with a coat of paint now much defaced, showed the wretched condition of the roof through which the rain had trickled, making a network of brown stains.', 'offset': None, 'speaker': 6358, 'id': 188184}\n",
      "{'audio_file': '/home/stanislavv/data/libritts/LibriTTS/train-other-500/6358/73329/6358_73329_000018_000000.wav', 'duration': 1.98, 'text': '\"We have some very good broth,\" he added.', 'offset': None, 'speaker': 6358, 'id': 188185}\n",
      "{'audio_file': '/home/stanislavv/data/libritts/LibriTTS/train-other-500/6358/73329/6358_73329_000082_000001.wav', 'duration': 6.940083, 'text': 'There is no crime which, in the eyes of God, is not washed out by a repentance as deep and sincere as yours appears to be.\"', 'offset': None, 'speaker': 6358, 'id': 188186}\n",
      "{'audio_file': '/home/stanislavv/data/libritts/LibriTTS/train-other-500/6358/73329/6358_73329_000098_000002.wav', 'duration': 8.600083, 'text': 'In spite of the famine which then afflicted Paris, they found daily at the door of their hovel rations of white bread, laid there by invisible hands.', 'offset': None, 'speaker': 6358, 'id': 188187}\n",
      "{'audio_file': '/home/stanislavv/data/libritts/LibriTTS/train-other-500/6358/73329/6358_73329_000076_000002.wav', 'duration': 6.670042, 'text': 'Silence so deep that some far distant cry could have pierced it, lent a sombre majesty to the nocturnal scene.', 'offset': None, 'speaker': 6358, 'id': 188188}\n",
      "{'audio_file': '/home/stanislavv/data/libritts/LibriTTS/train-other-500/6358/73329/6358_73329_000045_000000.wav', 'duration': 2.670042, 'text': '\"My place is near the victims,\" said the priest, simply.', 'offset': None, 'speaker': 6358, 'id': 188189}\n",
      "{'audio_file': '/home/stanislavv/data/libritts/LibriTTS/train-other-500/6358/73329/6358_73329_000077_000006.wav', 'duration': 5.47, 'text': 'Doubtless in the eyes of God it was the cup of cold water that weighed in the balance against many virtues.', 'offset': None, 'speaker': 6358, 'id': 188190}\n",
      "{'audio_file': '/home/stanislavv/data/libritts/LibriTTS/train-other-500/6358/73329/6358_73329_000038_000003.wav', 'duration': 3.99, 'text': 'God protects his own, and disposes of them according to his will.', 'offset': None, 'speaker': 6358, 'id': 188191}\n",
      "{'audio_file': '/home/stanislavv/data/libritts/LibriTTS/train-other-500/6358/73329/6358_73329_000029_000001.wav', 'duration': 7.87, 'text': 'Go out from here; let me see your heels, and don\\'t dare to come back; don\\'t expect me to supply you with the means of conspiracy!\"', 'offset': None, 'speaker': 6358, 'id': 188192}\n",
      "{'audio_file': '/home/stanislavv/data/libritts/LibriTTS/train-other-500/6358/73329/6358_73329_000032_000001.wav', 'duration': 3.2, 'text': 'The place is to this day one of the loneliest in Paris.', 'offset': None, 'speaker': 6358, 'id': 188193}\n",
      "{'audio_file': '/home/stanislavv/data/libritts/LibriTTS/train-other-500/6358/73329/6358_73329_000099_000002.wav', 'duration': 9.270042, 'text': 'They resolved that the stranger should not be allowed to escape the expression of their gratitude when he came to commemorate the next sad anniversary of the death of Louis the sixteenth.', 'offset': None, 'speaker': 6358, 'id': 188194}\n",
      "{'audio_file': '/home/stanislavv/data/libritts/LibriTTS/train-other-500/6358/73329/6358_73329_000075_000002.wav', 'duration': 9.26, 'text': 'A large ebony and ivory crucifix hanging on the discolored wall stood out in strong relief from the surrounding bareness, and necessarily caught the eye.', 'offset': None, 'speaker': 6358, 'id': 188195}\n",
      "{'audio_file': '/home/stanislavv/data/libritts/LibriTTS/train-other-500/6358/73329/6358_73329_000107_000001.wav', 'duration': 5.799792, 'text': 'They have fought it off as long as they could, but now they are going in their turn where they have sent so many innocent people.\"', 'offset': None, 'speaker': 6358, 'id': 188196}\n",
      "{'audio_file': '/home/stanislavv/data/libritts/LibriTTS/train-other-500/6358/73329/6358_73329_000033_000005.wav', 'duration': 6.669958, 'text': 'The old woman went up the rough and clumsy stairs with difficulty, holding fast to a rope which took the place of baluster.', 'offset': None, 'speaker': 6358, 'id': 188197}\n",
      "{'audio_file': '/home/stanislavv/data/libritts/LibriTTS/train-other-500/6358/73329/6358_73329_000084_000000.wav', 'duration': 7.0, 'text': '\"My father,\" he said, in a voice that nevertheless trembled, \"no one is more innocent than I of the blood shed-\"', 'offset': None, 'speaker': 6358, 'id': 188198}\n",
      "{'audio_file': '/home/stanislavv/data/libritts/LibriTTS/train-other-500/6358/73329/6358_73329_000063_000000.wav', 'duration': 7.180042, 'text': '\"Then you should take better precautions,\" said the unknown gently, stretching his arm to the table and picking up a breviary.', 'offset': None, 'speaker': 6358, 'id': 188199}\n",
      "{'audio_file': '/home/stanislavv/data/libritts/LibriTTS/train-other-500/6358/73329/6358_73329_000038_000001.wav', 'duration': 4.760042, 'text': '\"We chanted praises to his name amid the cries of victims and assassins at the convent.', 'offset': None, 'speaker': 6358, 'id': 188200}\n",
      "{'audio_file': '/home/stanislavv/data/libritts/LibriTTS/train-other-500/6358/73329/6358_73329_000052_000000.wav', 'duration': 6.03, 'text': 'The man who sought to enter interpreted their silence as he pleased; he suddenly opened the door and showed himself.', 'offset': None, 'speaker': 6358, 'id': 188201}\n",
      "{'audio_file': '/home/stanislavv/data/libritts/LibriTTS/train-other-500/6358/73329/6358_73329_000004_000006.wav', 'duration': 8.54, 'text': 'She staggered for an instant under the weight of terror, for she no longer doubted that this unknown man had tracked her, step by step, from her home.', 'offset': None, 'speaker': 6358, 'id': 188202}\n",
      "{'audio_file': '/home/stanislavv/data/libritts/LibriTTS/train-other-500/6358/73329/6358_73329_000015_000008.wav', 'duration': 6.1, 'text': 'The two shopkeepers, divided between pity and self interest, began to soothe their conscience with words:--', 'offset': None, 'speaker': 6358, 'id': 188203}\n",
      "{'audio_file': '/home/stanislavv/data/libritts/LibriTTS/train-other-500/6358/73329/6358_73329_000042_000000.wav', 'duration': 2.62, 'text': 'At these words all three listened intently.', 'offset': None, 'speaker': 6358, 'id': 188204}\n",
      "{'audio_file': '/home/stanislavv/data/libritts/LibriTTS/train-other-500/6358/73329/6358_73329_000111_000001.wav', 'duration': 1.550042, 'text': '\"Monsieur l\\'Abbe is fainting!\"', 'offset': None, 'speaker': 6358, 'id': 188205}\n",
      "{'audio_file': '/home/stanislavv/data/libritts/LibriTTS/train-other-500/6358/73329/6358_73329_000085_000000.wav', 'duration': 1.630042, 'text': '\"I believe it!\" said the priest.', 'offset': None, 'speaker': 6358, 'id': 188206}\n",
      "{'audio_file': '/home/stanislavv/data/libritts/LibriTTS/train-other-500/6358/73329/6358_73329_000101_000000.wav', 'duration': 2.830083, 'text': '\"Come!\" she said, in a trembling and affectionate voice.', 'offset': None, 'speaker': 6358, 'id': 188207}\n",
      "{'audio_file': '/home/stanislavv/data/libritts/LibriTTS/train-other-500/6358/73329/6358_73329_000010_000000.wav', 'duration': 1.52, 'text': 'The old lady made no answer.', 'offset': None, 'speaker': 6358, 'id': 188208}\n",
      "{'audio_file': '/home/stanislavv/data/libritts/LibriTTS/train-other-500/6358/73329/6358_73329_000105_000002.wav', 'duration': 10.260042, 'text': 'Ah, we saw enough of that last year! but now, four days after the anniversary of the twenty first of January, we can look at the horrid procession without distress.\"', 'offset': None, 'speaker': 6358, 'id': 188209}\n",
      "{'audio_file': '/home/stanislavv/data/libritts/LibriTTS/train-other-500/6358/73329/6358_73329_000092_000006.wav', 'duration': 11.840083, 'text': 'A year hence, on the twenty first of January\" (as he uttered these last words he could not repress an involuntary shudder), \"I shall return to celebrate once more the Mass of expiation-\"', 'offset': None, 'speaker': 6358, 'id': 188210}\n",
      "{'audio_file': '/home/stanislavv/data/libritts/LibriTTS/train-other-500/6358/73329/6358_73329_000041_000001.wav', 'duration': 1.679958, 'text': '\"I hear some one on the stairs.\"', 'offset': None, 'speaker': 6358, 'id': 188211}\n",
      "{'audio_file': '/home/stanislavv/data/libritts/LibriTTS/train-other-500/6358/73329/6358_73329_000075_000003.wav', 'duration': 8.89, 'text': 'Four slender little tapers, which the sisters had contrived to fasten to the altar with sealing wax, threw a pale glimmer dimly reflected by the yellow wall.', 'offset': None, 'speaker': 6358, 'id': 188212}\n",
      "{'audio_file': '/home/stanislavv/data/libritts/LibriTTS/train-other-500/6358/73329/6358_73329_000054_000000.wav', 'duration': 6.340083, 'text': 'The inventory of this poor cell was soon made by the individual who had presented himself under such alarming auspices.', 'offset': None, 'speaker': 6358, 'id': 188213}\n",
      "{'audio_file': '/home/stanislavv/data/libritts/LibriTTS/train-other-500/6358/73329/6358_73329_000069_000002.wav', 'duration': 1.460083, 'text': 'What is it you desire of me?\"', 'offset': None, 'speaker': 6358, 'id': 188214}\n",
      "{'audio_file': '/home/stanislavv/data/libritts/LibriTTS/train-other-500/6358/73329/6358_73329_000092_000005.wav', 'duration': 6.449958, 'text': 'Pious souls will watch over you and supply your wants; and you can await without danger the coming of better days.', 'offset': None, 'speaker': 6358, 'id': 188215}\n",
      "{'audio_file': '/home/stanislavv/data/libritts/LibriTTS/train-other-500/6358/73329/6358_73329_000038_000004.wav', 'duration': 2.379917, 'text': 'It is of you, not of me, that we should think.\"', 'offset': None, 'speaker': 6358, 'id': 188216}\n",
      "{'audio_file': '/home/stanislavv/data/libritts/LibriTTS/train-other-500/6358/73329/6358_73329_000068_000000.wav', 'duration': 4.51, 'text': 'As he uttered these words the priest emerged from his prison and appeared in the middle of the room.', 'offset': None, 'speaker': 6358, 'id': 188217}\n",
      "{'audio_file': '/home/stanislavv/data/libritts/LibriTTS/train-other-500/6358/73329/6358_73329_000036_000000.wav', 'duration': 3.409958, 'text': '\"The man who has hung about the house since yesterday followed me to night.\"', 'offset': None, 'speaker': 6358, 'id': 188218}\n",
      "{'audio_file': '/home/stanislavv/data/libritts/LibriTTS/train-other-500/6358/73329/6358_73329_000091_000000.wav', 'duration': 3.99, 'text': 'As he said these words he gave the ecclesiastic a little box of light weight.', 'offset': None, 'speaker': 6358, 'id': 188219}\n",
      "{'audio_file': '/home/stanislavv/data/libritts/LibriTTS/train-other-500/6358/73329/6358_73329_000077_000004.wav', 'duration': 14.410042, 'text': 'They were celebrating a funeral Mass without the remains of the deceased. Beneath these rafters and disjointed laths four Christian souls were interceding with God for a king of France, and making his burial without a coffin.', 'offset': None, 'speaker': 6358, 'id': 188220}\n",
      "{'audio_file': '/home/stanislavv/data/libritts/LibriTTS/train-other-500/6358/73329/6358_73329_000008_000004.wav', 'duration': 8.45, 'text': 'In former days the habits and manners of people of quality were so different from those of all other classes that it was easy to distinguish persons of noble birth.', 'offset': None, 'speaker': 6358, 'id': 188221}\n",
      "{'audio_file': '/home/stanislavv/data/libritts/LibriTTS/train-other-500/6358/73329/6358_73329_000026_000001.wav', 'duration': 1.34, 'text': 'Perhaps it is a conspiracy.', 'offset': None, 'speaker': 6358, 'id': 188222}\n"
     ]
    }
   ],
   "source": [
    "for item in items:\n",
    "    if item['speaker'] == 6358:\n",
    "        print(item)"
   ]
  },
  {
   "cell_type": "code",
   "execution_count": 11,
   "metadata": {},
   "outputs": [
    {
     "data": {
      "text/plain": [
       "True"
      ]
     },
     "execution_count": 11,
     "metadata": {},
     "output_type": "execute_result"
    }
   ],
   "source": [
    "speakers = list(sorted(set([item['speaker'] for item in items])))\n",
    "6358 in speakers"
   ]
  },
  {
   "cell_type": "code",
   "execution_count": 15,
   "metadata": {},
   "outputs": [
    {
     "data": {
      "text/plain": [
       "['F', 'F', 'M', 'F', 'F', 'F', 'F', 'M', 'M', 'M']"
      ]
     },
     "execution_count": 15,
     "metadata": {},
     "output_type": "execute_result"
    }
   ],
   "source": [
    "SPEAKER_TSV = '/home/stanislavv/data/libritts/local/speakers.tsv'\n",
    "tsv_speakers = list(pd.read_csv(SPEAKER_TSV, sep='\\t')['READER'])\n",
    "tsv_speakers[:10]"
   ]
  },
  {
   "cell_type": "code",
   "execution_count": 18,
   "metadata": {},
   "outputs": [
    {
     "data": {
      "text/plain": [
       "Int64Index([  14,   16,   17,   19,   20,   22,   23,   25,   26,   27,\n",
       "            ...\n",
       "            8867, 8875, 8879, 8887, 8897, 8975, 9000, 9022, 9023, 9026],\n",
       "           dtype='int64', length=2484)"
      ]
     },
     "execution_count": 18,
     "metadata": {},
     "output_type": "execute_result"
    }
   ],
   "source": [
    "pd.read_csv(SPEAKER_TSV, sep='\\t').index"
   ]
  },
  {
   "cell_type": "markdown",
   "metadata": {},
   "source": [
    "# Embeddings"
   ]
  },
  {
   "cell_type": "code",
   "execution_count": 45,
   "metadata": {},
   "outputs": [],
   "source": [
    "EMB_ROOT = '/home/stanislavv/data/libritts/speaker-embeddings-16k'\n",
    "SPEAKERS_TABLE = '/home/stanislavv/data/libritts/ngc/speakers.tsv'\n",
    "EMB_SIZE = 256"
   ]
  },
  {
   "cell_type": "code",
   "execution_count": 46,
   "metadata": {},
   "outputs": [
    {
     "data": {
      "text/plain": [
       "2484"
      ]
     },
     "execution_count": 46,
     "metadata": {},
     "output_type": "execute_result"
    }
   ],
   "source": [
    "sid_to_i = {sid: i for i, sid in enumerate(pd.read_csv(SPEAKERS_TABLE, sep='\\t').index)}\n",
    "len(sid_to_i)"
   ]
  },
  {
   "cell_type": "code",
   "execution_count": 47,
   "metadata": {},
   "outputs": [],
   "source": [
    "embs = np.zeros((len(sid_to_i), EMB_SIZE))\n",
    "nums = np.zeros(len(sid_to_i))"
   ]
  },
  {
   "cell_type": "code",
   "execution_count": 48,
   "metadata": {},
   "outputs": [
    {
     "name": "stderr",
     "output_type": "stream",
     "text": [
      "375086it [02:34, 2427.98it/s]\n"
     ]
    }
   ],
   "source": [
    "path = pathlib.Path(EMB_ROOT)\n",
    "files = []\n",
    "for f in tqdm.tqdm(path.glob('*/*/*/*.npy')):\n",
    "    speaker_id = int(f.name.split('_')[0])\n",
    "    arr = np.load(str(f))\n",
    "    \n",
    "    embs[sid_to_i[speaker_id]] += arr\n",
    "    nums[sid_to_i[speaker_id]] += 1"
   ]
  },
  {
   "cell_type": "code",
   "execution_count": 49,
   "metadata": {},
   "outputs": [
    {
     "data": {
      "text/plain": [
       "(2484, 256)"
      ]
     },
     "execution_count": 49,
     "metadata": {},
     "output_type": "execute_result"
    }
   ],
   "source": [
    "sembs = embs / np.where(nums == 0.0, 1, nums)[:, np.newaxis]\n",
    "sembs.shape"
   ]
  },
  {
   "cell_type": "code",
   "execution_count": 50,
   "metadata": {},
   "outputs": [
    {
     "data": {
      "text/plain": [
       "(0.0, 0.3968268036842346)"
      ]
     },
     "execution_count": 50,
     "metadata": {},
     "output_type": "execute_result"
    }
   ],
   "source": [
    "sembs.min(), sembs.max()"
   ]
  },
  {
   "cell_type": "code",
   "execution_count": 51,
   "metadata": {},
   "outputs": [],
   "source": [
    "np.save('/home/stanislavv/data/librimeta/speaker-embs/16k.npy', sembs)"
   ]
  }
 ],
 "metadata": {
  "kernelspec": {
   "display_name": "Python 3",
   "language": "python",
   "name": "python3"
  },
  "language_info": {
   "codemirror_mode": {
    "name": "ipython",
    "version": 3
   },
   "file_extension": ".py",
   "mimetype": "text/x-python",
   "name": "python",
   "nbconvert_exporter": "python",
   "pygments_lexer": "ipython3",
   "version": "3.6.9"
  }
 },
 "nbformat": 4,
 "nbformat_minor": 2
}
