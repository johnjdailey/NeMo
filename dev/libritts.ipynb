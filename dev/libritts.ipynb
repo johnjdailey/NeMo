{
 "cells": [
  {
   "cell_type": "code",
   "execution_count": 48,
   "metadata": {},
   "outputs": [],
   "source": [
    "import os\n",
    "import tqdm\n",
    "import json\n",
    "import shutil\n",
    "import fnmatch\n",
    "import pathlib\n",
    "import subprocess\n",
    "import numpy as np"
   ]
  },
  {
   "cell_type": "code",
   "execution_count": 37,
   "metadata": {},
   "outputs": [],
   "source": [
    "BASE = pathlib.Path('/home/stanislavv/data/libritts')\n",
    "LOCAL_DATA_ROOT = BASE / 'LibriTTS'\n",
    "NGC_DATA_ROOT = BASE / 'LibriTTS_ngc'\n",
    "LOCAL_MANIFEST_ROOT = BASE / 'local'\n",
    "NGC_MANIFEST_ROOT = BASE / 'ngc'"
   ]
  },
  {
   "cell_type": "code",
   "execution_count": 50,
   "metadata": {},
   "outputs": [
    {
     "name": "stderr",
     "output_type": "stream",
     "text": [
      "100%|██████████| 5736/5736 [00:44<00:00, 128.77it/s]\n"
     ]
    }
   ],
   "source": [
    "def process(part):\n",
    "    def read_text(file):\n",
    "        with open(file, 'r') as f:\n",
    "            return str(f.read())\n",
    "    \n",
    "    def write_manifest(data, file):\n",
    "        with open(file, 'w') as f:\n",
    "            for example in data:\n",
    "                f.write(json.dumps(example) + '\\n')\n",
    "    \n",
    "    ngc_datat_root = NGC_DATA_ROOT / part\n",
    "    ngc_datat_root.mkdir(parents=True, exist_ok=True)\n",
    "    \n",
    "    wavs = list((LOCAL_DATA_ROOT / part).glob('*/*/*.wav'))\n",
    "    local_data, ngc_data = [], []\n",
    "    for wav in tqdm.tqdm(wavs):\n",
    "        shutil.copy(wav, ngc_datat_root / wav.name)\n",
    "        \n",
    "        normalized_text = read_text(wav.with_suffix('.normalized.txt'))\n",
    "        original_text = read_text(wav.with_suffix('.original.txt'))\n",
    "        duration = float(subprocess.check_output(f'soxi -D {wav}', shell=True))\n",
    "        speaker = int(wav.name.split('_')[0])\n",
    "\n",
    "        local_data.append(\n",
    "            dict(\n",
    "                audio_filepath=str(wav),\n",
    "                duration=duration,\n",
    "                normalized_text=normalized_text,\n",
    "                original_text=original_text,\n",
    "                speaker=speaker,\n",
    "            )\n",
    "        )\n",
    "        \n",
    "        ngc_data.append(\n",
    "            dict(\n",
    "                audio_filepath=str(pathlib.Path('/data/libritts') / part / wav.name),\n",
    "                duration=duration,\n",
    "                normalized_text=normalized_text,\n",
    "                original_text=original_text,\n",
    "                speaker=speaker,\n",
    "            )\n",
    "        )\n",
    "\n",
    "    LOCAL_MANIFEST_ROOT.mkdir(parents=True, exist_ok=True)\n",
    "    write_manifest(local_data, LOCAL_MANIFEST_ROOT / f'{part}.json')\n",
    "\n",
    "    NGC_MANIFEST_ROOT.mkdir(parents=True, exist_ok=True)\n",
    "    write_manifest(ngc_data, NGC_MANIFEST_ROOT / f'{part}.json')\n",
    "\n",
    "\n",
    "process('dev-clean')"
   ]
  },
  {
   "cell_type": "code",
   "execution_count": 51,
   "metadata": {},
   "outputs": [
    {
     "name": "stderr",
     "output_type": "stream",
     "text": [
      "  0%|          | 13/4613 [00:00<00:35, 127.91it/s]"
     ]
    },
    {
     "name": "stdout",
     "output_type": "stream",
     "text": [
      "dev-other\n"
     ]
    },
    {
     "name": "stderr",
     "output_type": "stream",
     "text": [
      "100%|██████████| 4613/4613 [00:32<00:00, 142.37it/s]\n",
      "  0%|          | 14/4837 [00:00<00:36, 132.77it/s]"
     ]
    },
    {
     "name": "stdout",
     "output_type": "stream",
     "text": [
      "test-clean\n"
     ]
    },
    {
     "name": "stderr",
     "output_type": "stream",
     "text": [
      "100%|██████████| 4837/4837 [00:37<00:00, 130.14it/s]\n",
      "  0%|          | 14/5120 [00:00<00:37, 135.68it/s]"
     ]
    },
    {
     "name": "stdout",
     "output_type": "stream",
     "text": [
      "test-other\n"
     ]
    },
    {
     "name": "stderr",
     "output_type": "stream",
     "text": [
      "100%|██████████| 5120/5120 [00:38<00:00, 131.62it/s]\n"
     ]
    },
    {
     "name": "stdout",
     "output_type": "stream",
     "text": [
      "train-clean-100\n"
     ]
    },
    {
     "name": "stderr",
     "output_type": "stream",
     "text": [
      "100%|██████████| 33236/33236 [04:31<00:00, 122.43it/s]\n"
     ]
    },
    {
     "name": "stdout",
     "output_type": "stream",
     "text": [
      "train-clean-360\n"
     ]
    },
    {
     "name": "stderr",
     "output_type": "stream",
     "text": [
      "100%|██████████| 116500/116500 [19:11<00:00, 101.19it/s]\n"
     ]
    },
    {
     "name": "stdout",
     "output_type": "stream",
     "text": [
      "train-other-500\n"
     ]
    },
    {
     "name": "stderr",
     "output_type": "stream",
     "text": [
      "100%|██████████| 205044/205044 [39:53<00:00, 85.67it/s]\n"
     ]
    }
   ],
   "source": [
    "for part in ['dev-other', 'test-clean', 'test-other', 'train-clean-100', 'train-clean-360', 'train-other-500']:\n",
    "    print(part)\n",
    "    process(part)"
   ]
  },
  {
   "cell_type": "code",
   "execution_count": 53,
   "metadata": {},
   "outputs": [
    {
     "data": {
      "text/plain": [
       "PosixPath('/home/stanislavv/data/libritts/ngc/speakers.tsv')"
      ]
     },
     "execution_count": 53,
     "metadata": {},
     "output_type": "execute_result"
    }
   ],
   "source": [
    "shutil.copy(LOCAL_DATA_ROOT / 'eval_sentences10.tsv', LOCAL_MANIFEST_ROOT / 'eval_sentences10.tsv')\n",
    "shutil.copy(LOCAL_DATA_ROOT / 'speakers.tsv', LOCAL_MANIFEST_ROOT / 'speakers.tsv')\n",
    "shutil.copy(LOCAL_DATA_ROOT / 'eval_sentences10.tsv', NGC_MANIFEST_ROOT / 'eval_sentences10.tsv')\n",
    "shutil.copy(LOCAL_DATA_ROOT / 'speakers.tsv', NGC_MANIFEST_ROOT / 'speakers.tsv')"
   ]
  },
  {
   "cell_type": "code",
   "execution_count": 54,
   "metadata": {},
   "outputs": [],
   "source": [
    "# !cat train-clean-100.json train-clean-360.json train-other-500.json >train-all.json"
   ]
  }
 ],
 "metadata": {
  "kernelspec": {
   "display_name": "Python 3",
   "language": "python",
   "name": "python3"
  },
  "language_info": {
   "codemirror_mode": {
    "name": "ipython",
    "version": 3
   },
   "file_extension": ".py",
   "mimetype": "text/x-python",
   "name": "python",
   "nbconvert_exporter": "python",
   "pygments_lexer": "ipython3",
   "version": "3.6.9"
  }
 },
 "nbformat": 4,
 "nbformat_minor": 2
}
