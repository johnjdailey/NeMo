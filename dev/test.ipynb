{
 "cells": [
  {
   "cell_type": "code",
   "execution_count": 1,
   "metadata": {},
   "outputs": [],
   "source": [
    "%load_ext autoreload\n",
    "%autoreload 2"
   ]
  },
  {
   "cell_type": "code",
   "execution_count": 2,
   "metadata": {},
   "outputs": [],
   "source": [
    "import nemo\n",
    "import torch\n",
    "import numpy as np\n",
    "\n",
    "from nemo.collections import tts as nemo_tts"
   ]
  },
  {
   "cell_type": "code",
   "execution_count": 3,
   "metadata": {},
   "outputs": [
    {
     "data": {
      "text/plain": [
       "((torch.Size([32, 100, 15]), torch.float32),\n",
       " (torch.Size([32, 100]), torch.int64))"
      ]
     },
     "execution_count": 3,
     "metadata": {},
     "output_type": "execute_result"
    }
   ],
   "source": [
    "B, T, C, num_classes = 32, 100, 15, 32\n",
    "y_pred = torch.normal(0.0, 1.0, (B, T, C))\n",
    "y_true = torch.tensor(np.random.choice(num_classes, size=(B, T), replace=True), dtype=torch.long)\n",
    "(y_pred.shape, y_pred.dtype), (y_true.shape, y_true.dtype)"
   ]
  },
  {
   "cell_type": "code",
   "execution_count": 4,
   "metadata": {},
   "outputs": [
    {
     "data": {
      "text/plain": [
       "tensor([[0.8962, 1.2270, 0.7164,  ..., 1.0317, 0.7999, 0.8104],\n",
       "        [1.8184, 1.3575, 1.0692,  ..., 1.2355, 1.8862, 0.5127],\n",
       "        [0.9521, 0.9255, 1.1861,  ..., 2.7445, 1.4190, 1.5864],\n",
       "        ...,\n",
       "        [1.1155, 0.8727, 0.8439,  ..., 1.1352, 2.7130, 1.0487],\n",
       "        [0.8769, 1.7948, 2.0736,  ..., 0.9733, 0.9567, 0.5358],\n",
       "        [2.1465, 1.7333, 0.6418,  ..., 1.3870, 1.1792, 2.1006]])"
      ]
     },
     "execution_count": 4,
     "metadata": {},
     "output_type": "execute_result"
    }
   ],
   "source": [
    "nemo_tts.parts.dmld_loss(y_pred, y_true, num_classes=num_classes)"
   ]
  },
  {
   "cell_type": "code",
   "execution_count": 11,
   "metadata": {},
   "outputs": [
    {
     "data": {
      "text/plain": [
       "tensor([[18.8765,  0.0000,  0.0000,  ...,  0.0000, 31.0000, 30.9614],\n",
       "        [ 0.0000,  0.0000, 15.8390,  ..., 16.2855, 25.4399,  0.0000],\n",
       "        [16.8917,  0.0000,  0.0000,  ..., 28.1443,  5.3356, 31.0000],\n",
       "        ...,\n",
       "        [31.0000, 31.0000, 13.4109,  ..., 20.2352, 31.0000, 31.0000],\n",
       "        [ 0.0000,  1.4237, 31.0000,  ..., 31.0000,  0.0000, 31.0000],\n",
       "        [26.8359, 19.5081,  0.0000,  ..., 23.4756, 18.5434, 31.0000]])"
      ]
     },
     "execution_count": 11,
     "metadata": {},
     "output_type": "execute_result"
    }
   ],
   "source": [
    "nemo_tts.parts.dmld_sample(y_pred, num_classes=num_classes)"
   ]
  }
 ],
 "metadata": {
  "kernelspec": {
   "display_name": "Python 3",
   "language": "python",
   "name": "python3"
  },
  "language_info": {
   "codemirror_mode": {
    "name": "ipython",
    "version": 3
   },
   "file_extension": ".py",
   "mimetype": "text/x-python",
   "name": "python",
   "nbconvert_exporter": "python",
   "pygments_lexer": "ipython3",
   "version": "3.6.9"
  }
 },
 "nbformat": 4,
 "nbformat_minor": 2
}
