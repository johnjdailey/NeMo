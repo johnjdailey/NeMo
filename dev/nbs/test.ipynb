{
 "cells": [
  {
   "cell_type": "code",
   "execution_count": 1,
   "metadata": {},
   "outputs": [],
   "source": [
    "%load_ext autoreload\n",
    "%autoreload 2"
   ]
  },
  {
   "cell_type": "code",
   "execution_count": 14,
   "metadata": {},
   "outputs": [],
   "source": [
    "import nemo\n",
    "import attrdict\n",
    "from ruamel import yaml\n",
    "from nemo.collections import tts as nemo_tts"
   ]
  },
  {
   "cell_type": "code",
   "execution_count": 11,
   "metadata": {},
   "outputs": [
    {
     "data": {
      "text/plain": [
       "AttrDict({'sample_rate': 24000, 'window_size': 0.02, 'window_stride': 0.01, 'window': 'hann', 'normalize': None, 'n_fft': 512, 'preemph': None, 'features': 64, 'lowfreq': 0, 'highfreq': None, 'log': True, 'log_zero_guard_type': 'clamp', 'log_zero_guard_value': 1e-05, 'dither': 0.0, 'pad_to': 16, 'frame_splicing': 1, 'stft_conv': True, 'pad_value': -11.52, 'mag_power': 1.0})"
      ]
     },
     "execution_count": 11,
     "metadata": {},
     "output_type": "execute_result"
    }
   ],
   "source": [
    "MODEL_CONFIG = '/home/stanislavv/src/tts/NeMo/examples/tts/configs/fasterspeech.yaml'\n",
    "yaml_loader = yaml.YAML(typ=\"safe\")\n",
    "with open(MODEL_CONFIG) as f:\n",
    "    pp_config = attrdict.AttrDict(yaml_loader.load(f))\n",
    "pp_config.sample_rate = 22025\n",
    "pp_config.AudioToMelSpectrogramPreprocessor"
   ]
  },
  {
   "cell_type": "code",
   "execution_count": 15,
   "metadata": {},
   "outputs": [
    {
     "name": "stderr",
     "output_type": "stream",
     "text": [
      "[NeMo W 2020-04-18 19:11:23 deprecated:68] Function ``_get_trainer`` is deprecated. It is going to be removed in the future version.\n"
     ]
    }
   ],
   "source": [
    "runner = nemo.core.NeuralModuleFactory(\n",
    "    placement=nemo.core.DeviceType.GPU,\n",
    ")"
   ]
  },
  {
   "cell_type": "code",
   "execution_count": 17,
   "metadata": {},
   "outputs": [],
   "source": [
    "m = nemo_tts.FasterSpeech(10, 128, 0, pp_config.JasperEncoder, 128)"
   ]
  },
  {
   "cell_type": "code",
   "execution_count": 29,
   "metadata": {},
   "outputs": [],
   "source": [
    "m.train();"
   ]
  },
  {
   "cell_type": "code",
   "execution_count": 31,
   "metadata": {},
   "outputs": [],
   "source": [
    "m.eval();"
   ]
  },
  {
   "cell_type": "code",
   "execution_count": 32,
   "metadata": {},
   "outputs": [
    {
     "data": {
      "text/plain": [
       "(False, False)"
      ]
     },
     "execution_count": 32,
     "metadata": {},
     "output_type": "execute_result"
    }
   ],
   "source": [
    "m.training, m.jasper.training"
   ]
  },
  {
   "cell_type": "code",
   "execution_count": 2,
   "metadata": {},
   "outputs": [],
   "source": [
    "import nemo\n",
    "import torch\n",
    "import numpy as np\n",
    "\n",
    "from nemo.collections import tts as nemo_tts"
   ]
  },
  {
   "cell_type": "code",
   "execution_count": 3,
   "metadata": {},
   "outputs": [
    {
     "data": {
      "text/plain": [
       "((torch.Size([32, 100, 15]), torch.float32),\n",
       " (torch.Size([32, 100]), torch.int64))"
      ]
     },
     "execution_count": 3,
     "metadata": {},
     "output_type": "execute_result"
    }
   ],
   "source": [
    "B, T, C, num_classes = 32, 100, 15, 32\n",
    "y_pred = torch.normal(0.0, 1.0, (B, T, C))\n",
    "y_true = torch.tensor(np.random.choice(num_classes, size=(B, T), replace=True), dtype=torch.long)\n",
    "(y_pred.shape, y_pred.dtype), (y_true.shape, y_true.dtype)"
   ]
  },
  {
   "cell_type": "code",
   "execution_count": 4,
   "metadata": {},
   "outputs": [
    {
     "data": {
      "text/plain": [
       "tensor([[0.8962, 1.2270, 0.7164,  ..., 1.0317, 0.7999, 0.8104],\n",
       "        [1.8184, 1.3575, 1.0692,  ..., 1.2355, 1.8862, 0.5127],\n",
       "        [0.9521, 0.9255, 1.1861,  ..., 2.7445, 1.4190, 1.5864],\n",
       "        ...,\n",
       "        [1.1155, 0.8727, 0.8439,  ..., 1.1352, 2.7130, 1.0487],\n",
       "        [0.8769, 1.7948, 2.0736,  ..., 0.9733, 0.9567, 0.5358],\n",
       "        [2.1465, 1.7333, 0.6418,  ..., 1.3870, 1.1792, 2.1006]])"
      ]
     },
     "execution_count": 4,
     "metadata": {},
     "output_type": "execute_result"
    }
   ],
   "source": [
    "nemo_tts.parts.dmld_loss(y_pred, y_true, num_classes=num_classes)"
   ]
  },
  {
   "cell_type": "code",
   "execution_count": 11,
   "metadata": {},
   "outputs": [
    {
     "data": {
      "text/plain": [
       "tensor([[18.8765,  0.0000,  0.0000,  ...,  0.0000, 31.0000, 30.9614],\n",
       "        [ 0.0000,  0.0000, 15.8390,  ..., 16.2855, 25.4399,  0.0000],\n",
       "        [16.8917,  0.0000,  0.0000,  ..., 28.1443,  5.3356, 31.0000],\n",
       "        ...,\n",
       "        [31.0000, 31.0000, 13.4109,  ..., 20.2352, 31.0000, 31.0000],\n",
       "        [ 0.0000,  1.4237, 31.0000,  ..., 31.0000,  0.0000, 31.0000],\n",
       "        [26.8359, 19.5081,  0.0000,  ..., 23.4756, 18.5434, 31.0000]])"
      ]
     },
     "execution_count": 11,
     "metadata": {},
     "output_type": "execute_result"
    }
   ],
   "source": [
    "nemo_tts.parts.dmld_sample(y_pred, num_classes=num_classes)"
   ]
  },
  {
   "cell_type": "code",
   "execution_count": 76,
   "metadata": {},
   "outputs": [
    {
     "name": "stdout",
     "output_type": "stream",
     "text": [
      "0 1 2 3 4 5 6 7 8 9 10 11 12 13 14 15 16 17 18 19 20 21 22 23 24 25 26 27 28 29 30 31\n"
     ]
    }
   ],
   "source": [
    "num_classes = 32\n",
    "classes = np.arange(num_classes).tolist()\n",
    "print(*classes)"
   ]
  },
  {
   "cell_type": "code",
   "execution_count": 89,
   "metadata": {},
   "outputs": [
    {
     "name": "stdout",
     "output_type": "stream",
     "text": [
      "45\n",
      "0 1 2 3 4 5 6 7 8 9 10 11 12 13 14 15 16 17 18 19 20 21 22 23 24 25 26 27 28 29 30 31 32 34 38 43 50 62 79 104 143 200 287 417 611\n"
     ]
    }
   ],
   "source": [
    "num_classes = 32\n",
    "classes = np.arange(num_classes).tolist()\n",
    "\n",
    "k, c = 1, num_classes - 1\n",
    "while c < 500:\n",
    "    k *= 1.5\n",
    "    c += k\n",
    "    classes.append(int(c))\n",
    "\n",
    "print(len(classes))\n",
    "print(*classes)"
   ]
  },
  {
   "cell_type": "code",
   "execution_count": 20,
   "metadata": {},
   "outputs": [
    {
     "data": {
      "text/plain": [
       "tensor([  0,   1,   2,   3,   4,   5,   6,   7,   8,   9,  10,  11,  12,  13,\n",
       "         14,  15,  16,  17,  18,  19,  20,  21,  22,  23,  24,  25,  26,  27,\n",
       "         28,  29,  30,  31,  33,  37,  45,  61,  93, 157, 285, 541])"
      ]
     },
     "execution_count": 20,
     "metadata": {},
     "output_type": "execute_result"
    }
   ],
   "source": [
    "classes = torch.tensor(classes)\n",
    "classes"
   ]
  },
  {
   "cell_type": "code",
   "execution_count": 23,
   "metadata": {},
   "outputs": [
    {
     "data": {
      "text/plain": [
       "tensor([[251,  18,  84,  ...,  38, 149, 150],\n",
       "        [209,  56, 248,  ..., 249, 262,  56],\n",
       "        [237, 290, 161,  ..., 161, 206,  68],\n",
       "        ...,\n",
       "        [273,  47, 247,  ..., 110, 202, 130],\n",
       "        [207,  60, 171,  ..., 266, 213, 119],\n",
       "        [ 82, 112,  82,  ...,  94,  93, 255]])"
      ]
     },
     "execution_count": 23,
     "metadata": {},
     "output_type": "execute_result"
    }
   ],
   "source": [
    "dur_true = torch.randint(0, 300, (32, 500))\n",
    "dur_true"
   ]
  },
  {
   "cell_type": "code",
   "execution_count": 30,
   "metadata": {},
   "outputs": [
    {
     "data": {
      "text/plain": [
       "torch.Size([32, 500])"
      ]
     },
     "execution_count": 30,
     "metadata": {},
     "output_type": "execute_result"
    }
   ],
   "source": [
    "dur_true.shape"
   ]
  },
  {
   "cell_type": "code",
   "execution_count": 32,
   "metadata": {},
   "outputs": [
    {
     "data": {
      "text/plain": [
       "(torch.Size([32, 500, 40]), torch.Size([32, 500, 40]))"
      ]
     },
     "execution_count": 32,
     "metadata": {},
     "output_type": "execute_result"
    }
   ],
   "source": [
    "a = dur_true.unsqueeze(-1).repeat(1, 1, *classes.shape)\n",
    "b = classes.unsqueeze(0).unsqueeze(0).repeat(*dur_true.shape, 1)\n",
    "a.shape, b.shape"
   ]
  },
  {
   "cell_type": "code",
   "execution_count": 56,
   "metadata": {},
   "outputs": [
    {
     "data": {
      "text/plain": [
       "torch.Size([32, 500, 40])"
      ]
     },
     "execution_count": 56,
     "metadata": {},
     "output_type": "execute_result"
    }
   ],
   "source": [
    "b.shape"
   ]
  },
  {
   "cell_type": "code",
   "execution_count": 57,
   "metadata": {},
   "outputs": [
    {
     "data": {
      "text/plain": [
       "torch.Size([32, 500])"
      ]
     },
     "execution_count": 57,
     "metadata": {},
     "output_type": "execute_result"
    }
   ],
   "source": [
    "ii.shape"
   ]
  },
  {
   "cell_type": "code",
   "execution_count": 39,
   "metadata": {},
   "outputs": [
    {
     "data": {
      "text/plain": [
       "tensor([[38, 18, 36,  ..., 33, 37, 37],\n",
       "        [37, 35, 38,  ..., 38, 38, 35],\n",
       "        [38, 38, 37,  ..., 37, 37, 35],\n",
       "        ...,\n",
       "        [38, 34, 38,  ..., 36, 37, 37],\n",
       "        [37, 35, 37,  ..., 38, 37, 36],\n",
       "        [36, 36, 36,  ..., 36, 36, 38]])"
      ]
     },
     "execution_count": 39,
     "metadata": {},
     "output_type": "execute_result"
    }
   ],
   "source": [
    "ii = (a - b).abs().argmin(-1)\n",
    "ii"
   ]
  },
  {
   "cell_type": "code",
   "execution_count": 59,
   "metadata": {},
   "outputs": [
    {
     "data": {
      "text/plain": [
       "tensor([[285,  18,  93,  ...,  37, 157, 157],\n",
       "        [157,  61, 285,  ..., 285, 285,  61],\n",
       "        [285, 285, 157,  ..., 157, 157,  61],\n",
       "        ...,\n",
       "        [285,  45, 285,  ...,  93, 157, 157],\n",
       "        [157,  61, 157,  ..., 285, 157,  93],\n",
       "        [ 93,  93,  93,  ...,  93,  93, 285]])"
      ]
     },
     "execution_count": 59,
     "metadata": {},
     "output_type": "execute_result"
    }
   ],
   "source": [
    "b = classes.unsqueeze(0).unsqueeze(0).repeat(*ii.shape, 1)\n",
    "b.gather(-1, ii.unsqueeze(-1)).squeeze()"
   ]
  }
 ],
 "metadata": {
  "kernelspec": {
   "display_name": "Python 3",
   "language": "python",
   "name": "python3"
  },
  "language_info": {
   "codemirror_mode": {
    "name": "ipython",
    "version": 3
   },
   "file_extension": ".py",
   "mimetype": "text/x-python",
   "name": "python",
   "nbconvert_exporter": "python",
   "pygments_lexer": "ipython3",
   "version": "3.6.9"
  }
 },
 "nbformat": 4,
 "nbformat_minor": 2
}
