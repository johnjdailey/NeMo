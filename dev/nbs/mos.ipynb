{
 "cells": [
  {
   "cell_type": "markdown",
   "metadata": {},
   "source": [
    "# MOS"
   ]
  },
  {
   "cell_type": "code",
   "execution_count": 1,
   "metadata": {},
   "outputs": [],
   "source": [
    "%reload_ext autoreload\n",
    "%autoreload 2"
   ]
  },
  {
   "cell_type": "code",
   "execution_count": 2,
   "metadata": {},
   "outputs": [],
   "source": [
    "import nemo\n",
    "import tqdm\n",
    "import torch\n",
    "import random\n",
    "import shutil\n",
    "import pathlib\n",
    "import librosa\n",
    "import argparse\n",
    "import numpy as np\n",
    "import pandas as pd\n",
    "import scipy.stats as st\n",
    "\n",
    "from ruamel import yaml\n",
    "from nemo.collections import asr as nemo_asr\n",
    "from nemo.collections import tts as nemo_tts"
   ]
  },
  {
   "cell_type": "code",
   "execution_count": 6,
   "metadata": {},
   "outputs": [],
   "source": [
    "DATA = pathlib.Path('/home/stanislavv/data')\n",
    "LJSPEECH, MOS = DATA / 'ljspeech/local', DATA / 'mos'\n",
    "MODELS, BATCHES = MOS / 'models', MOS / 'batches'"
   ]
  },
  {
   "cell_type": "markdown",
   "metadata": {},
   "source": [
    "## Meta"
   ]
  },
  {
   "cell_type": "markdown",
   "metadata": {},
   "source": [
    "### TalkNet part"
   ]
  },
  {
   "cell_type": "code",
   "execution_count": 249,
   "metadata": {},
   "outputs": [],
   "source": [
    "LJ = pathlib.Path('/home/stanislavv/data/ljspeech')"
   ]
  },
  {
   "cell_type": "code",
   "execution_count": 250,
   "metadata": {},
   "outputs": [
    {
     "data": {
      "text/plain": [
       "600"
      ]
     },
     "execution_count": 250,
     "metadata": {},
     "output_type": "execute_result"
    }
   ],
   "source": [
    "def load_local(file):\n",
    "    data = {}\n",
    "    for e in nemo_asr.parts.manifest.item_iter([file]):\n",
    "        name, text = pathlib.Path(e['audio_file']).stem, e['text'].strip()\n",
    "\n",
    "        data[name] = text\n",
    "    \n",
    "    return data\n",
    "\n",
    "\n",
    "local_eval = load_local(LJSPEECH / 'split3/eval.json')\n",
    "local_test = load_local(LJSPEECH / 'split3/test.json')\n",
    "local = {**local_eval, **local_test}\n",
    "len(local)"
   ]
  },
  {
   "cell_type": "markdown",
   "metadata": {},
   "source": [
    "### Tacotron 2 part"
   ]
  },
  {
   "cell_type": "code",
   "execution_count": 251,
   "metadata": {},
   "outputs": [
    {
     "data": {
      "text/plain": [
       "600"
      ]
     },
     "execution_count": 251,
     "metadata": {},
     "output_type": "execute_result"
    }
   ],
   "source": [
    "def local_t2(file):\n",
    "    data = {}\n",
    "    with open(file) as f:\n",
    "        for line in f:\n",
    "            name, text = line.split('|')\n",
    "            name, text = pathlib.Path(name).stem, text.strip()\n",
    "\n",
    "            data[name] = text\n",
    "\n",
    "    return data\n",
    "\n",
    "\n",
    "t2_eval = local_t2(MOS / 'tacotron2/ljs_audio_text_val_filelist.txt')\n",
    "t2_test = local_t2(MOS / 'tacotron2/ljs_audio_text_test_filelist.txt')\n",
    "t2 = {**t2_eval, **t2_test}\n",
    "len(t2)"
   ]
  },
  {
   "cell_type": "markdown",
   "metadata": {},
   "source": [
    "### Merge"
   ]
  },
  {
   "cell_type": "code",
   "execution_count": 252,
   "metadata": {},
   "outputs": [
    {
     "data": {
      "text/plain": [
       "(576, 24, 576)"
      ]
     },
     "execution_count": 252,
     "metadata": {},
     "output_type": "execute_result"
    }
   ],
   "source": [
    "len(local.keys() - t2.keys()), len(local.keys() & t2.keys()), len(t2.keys() - local.keys())"
   ]
  },
  {
   "cell_type": "code",
   "execution_count": 256,
   "metadata": {},
   "outputs": [
    {
     "data": {
      "text/plain": [
       "500"
      ]
     },
     "execution_count": 256,
     "metadata": {},
     "output_type": "execute_result"
    }
   ],
   "source": [
    "def sample(keys, k, data):\n",
    "    keys = list(keys)\n",
    "    random.shuffle(keys)\n",
    "\n",
    "    return {k: data[k] for k in keys[:k]}\n",
    "\n",
    "\n",
    "local_part = sample(local.keys() - t2.keys(), 250, local)\n",
    "t2_part = sample(t2.keys() - local.keys(), 250, t2)\n",
    "test = {**local_part, **t2_part}\n",
    "len(test)"
   ]
  },
  {
   "cell_type": "markdown",
   "metadata": {},
   "source": [
    "### Dumping"
   ]
  },
  {
   "cell_type": "code",
   "execution_count": 293,
   "metadata": {},
   "outputs": [
    {
     "data": {
      "text/html": [
       "<div>\n",
       "<style scoped>\n",
       "    .dataframe tbody tr th:only-of-type {\n",
       "        vertical-align: middle;\n",
       "    }\n",
       "\n",
       "    .dataframe tbody tr th {\n",
       "        vertical-align: top;\n",
       "    }\n",
       "\n",
       "    .dataframe thead th {\n",
       "        text-align: right;\n",
       "    }\n",
       "</style>\n",
       "<table border=\"1\" class=\"dataframe\">\n",
       "  <thead>\n",
       "    <tr style=\"text-align: right;\">\n",
       "      <th></th>\n",
       "      <th>name</th>\n",
       "      <th>text</th>\n",
       "    </tr>\n",
       "  </thead>\n",
       "  <tbody>\n",
       "    <tr>\n",
       "      <th>0</th>\n",
       "      <td>LJ012-0054</td>\n",
       "      <td>Solomons, while waiting to appear in court, pe...</td>\n",
       "    </tr>\n",
       "    <tr>\n",
       "      <th>1</th>\n",
       "      <td>LJ035-0187</td>\n",
       "      <td>he also directed that the back door be sealed ...</td>\n",
       "    </tr>\n",
       "    <tr>\n",
       "      <th>2</th>\n",
       "      <td>LJ035-0148</td>\n",
       "      <td>She testified that she heard three shots which...</td>\n",
       "    </tr>\n",
       "    <tr>\n",
       "      <th>3</th>\n",
       "      <td>LJ031-0008</td>\n",
       "      <td>Meanwhile, Chief Curry ordered the police base...</td>\n",
       "    </tr>\n",
       "    <tr>\n",
       "      <th>4</th>\n",
       "      <td>LJ021-0139</td>\n",
       "      <td>There should be at least a full and fair trial...</td>\n",
       "    </tr>\n",
       "  </tbody>\n",
       "</table>\n",
       "</div>"
      ],
      "text/plain": [
       "         name                                               text\n",
       "0  LJ012-0054  Solomons, while waiting to appear in court, pe...\n",
       "1  LJ035-0187  he also directed that the back door be sealed ...\n",
       "2  LJ035-0148  She testified that she heard three shots which...\n",
       "3  LJ031-0008  Meanwhile, Chief Curry ordered the police base...\n",
       "4  LJ021-0139  There should be at least a full and fair trial..."
      ]
     },
     "execution_count": 293,
     "metadata": {},
     "output_type": "execute_result"
    }
   ],
   "source": [
    "df = pd.DataFrame(list(test.items()), columns=['name', 'text'])\n",
    "df = df.sample(frac=1).reset_index(drop=True)  # Shuffle\n",
    "df.to_csv(MOS / 'meta.csv', index=False)\n",
    "pd.read_csv(MOS / 'meta.csv').head()"
   ]
  },
  {
   "cell_type": "code",
   "execution_count": 117,
   "metadata": {},
   "outputs": [
    {
     "data": {
      "text/html": [
       "<div>\n",
       "<style scoped>\n",
       "    .dataframe tbody tr th:only-of-type {\n",
       "        vertical-align: middle;\n",
       "    }\n",
       "\n",
       "    .dataframe tbody tr th {\n",
       "        vertical-align: top;\n",
       "    }\n",
       "\n",
       "    .dataframe thead th {\n",
       "        text-align: right;\n",
       "    }\n",
       "</style>\n",
       "<table border=\"1\" class=\"dataframe\">\n",
       "  <thead>\n",
       "    <tr style=\"text-align: right;\">\n",
       "      <th></th>\n",
       "      <th>name</th>\n",
       "      <th>text</th>\n",
       "    </tr>\n",
       "  </thead>\n",
       "  <tbody>\n",
       "    <tr>\n",
       "      <th>0</th>\n",
       "      <td>LJ012-0054</td>\n",
       "      <td>Solomons, while waiting to appear in court, pe...</td>\n",
       "    </tr>\n",
       "    <tr>\n",
       "      <th>1</th>\n",
       "      <td>LJ035-0187</td>\n",
       "      <td>he also directed that the back door be sealed ...</td>\n",
       "    </tr>\n",
       "    <tr>\n",
       "      <th>2</th>\n",
       "      <td>LJ035-0148</td>\n",
       "      <td>She testified that she heard three shots which...</td>\n",
       "    </tr>\n",
       "    <tr>\n",
       "      <th>3</th>\n",
       "      <td>LJ031-0008</td>\n",
       "      <td>Meanwhile, Chief Curry ordered the police base...</td>\n",
       "    </tr>\n",
       "    <tr>\n",
       "      <th>4</th>\n",
       "      <td>LJ021-0139</td>\n",
       "      <td>There should be at least a full and fair trial...</td>\n",
       "    </tr>\n",
       "  </tbody>\n",
       "</table>\n",
       "</div>"
      ],
      "text/plain": [
       "         name                                               text\n",
       "0  LJ012-0054  Solomons, while waiting to appear in court, pe...\n",
       "1  LJ035-0187  he also directed that the back door be sealed ...\n",
       "2  LJ035-0148  She testified that she heard three shots which...\n",
       "3  LJ031-0008  Meanwhile, Chief Curry ordered the police base...\n",
       "4  LJ021-0139  There should be at least a full and fair trial..."
      ]
     },
     "execution_count": 117,
     "metadata": {},
     "output_type": "execute_result"
    }
   ],
   "source": [
    "df = pd.read_csv(MOS / 'meta.csv')\n",
    "df.head()"
   ]
  },
  {
   "cell_type": "markdown",
   "metadata": {},
   "source": [
    "## Models"
   ]
  },
  {
   "cell_type": "markdown",
   "metadata": {},
   "source": [
    "### Ground Truth"
   ]
  },
  {
   "cell_type": "code",
   "execution_count": 120,
   "metadata": {},
   "outputs": [],
   "source": [
    "GT = MODELS / 'ground-truth'"
   ]
  },
  {
   "cell_type": "code",
   "execution_count": 121,
   "metadata": {},
   "outputs": [],
   "source": [
    "GT.mkdir(parents=True, exist_ok=True)\n",
    "for i, e in df.iterrows():\n",
    "    name, text = e['name'], e['text']\n",
    "    shutil.copy(LJSPEECH / f'wavs/{name}.wav', GT / f'{i:03}.wav')"
   ]
  },
  {
   "cell_type": "markdown",
   "metadata": {},
   "source": [
    "### Mel + WaveGlow"
   ]
  },
  {
   "cell_type": "code",
   "execution_count": 8,
   "metadata": {},
   "outputs": [],
   "source": [
    "MEL_WG = MODELS / 'mel-waveglow'\n",
    "CONFIG = pathlib.Path('/home/stanislavv/src/tts/NeMo/examples/tts/configs/fasterspeech-mels-lj.yaml')\n",
    "WG_CODE = pathlib.Path('../../waveglow')\n",
    "WG_CKPT = DATA / 'ckpts/waveglow.pth'"
   ]
  },
  {
   "cell_type": "code",
   "execution_count": 9,
   "metadata": {},
   "outputs": [
    {
     "name": "stdout",
     "output_type": "stream",
     "text": [
      "[NeMo I 2020-05-01 00:31:56 features:144] PADDING: 1\n",
      "[NeMo I 2020-05-01 00:31:56 features:152] STFT using conv\n"
     ]
    },
    {
     "name": "stderr",
     "output_type": "stream",
     "text": [
      "/home/stanislavv/Apps/Conda/envs/nemo/lib/python3.6/site-packages/torch/serialization.py:657: SourceChangeWarning: source code of class 'glow.WaveGlow' has changed. you can retrieve the original source code by accessing the object's source attribute or set `torch.nn.Module.dump_patches = True` and use the patch tool to revert the changes.\n",
      "  warnings.warn(msg, SourceChangeWarning)\n",
      "/home/stanislavv/Apps/Conda/envs/nemo/lib/python3.6/site-packages/torch/serialization.py:657: SourceChangeWarning: source code of class 'torch.nn.modules.conv.ConvTranspose1d' has changed. you can retrieve the original source code by accessing the object's source attribute or set `torch.nn.Module.dump_patches = True` and use the patch tool to revert the changes.\n",
      "  warnings.warn(msg, SourceChangeWarning)\n",
      "/home/stanislavv/Apps/Conda/envs/nemo/lib/python3.6/site-packages/torch/serialization.py:657: SourceChangeWarning: source code of class 'torch.nn.modules.container.ModuleList' has changed. you can retrieve the original source code by accessing the object's source attribute or set `torch.nn.Module.dump_patches = True` and use the patch tool to revert the changes.\n",
      "  warnings.warn(msg, SourceChangeWarning)\n",
      "/home/stanislavv/Apps/Conda/envs/nemo/lib/python3.6/site-packages/torch/serialization.py:657: SourceChangeWarning: source code of class 'glow.WN' has changed. you can retrieve the original source code by accessing the object's source attribute or set `torch.nn.Module.dump_patches = True` and use the patch tool to revert the changes.\n",
      "  warnings.warn(msg, SourceChangeWarning)\n",
      "/home/stanislavv/Apps/Conda/envs/nemo/lib/python3.6/site-packages/torch/serialization.py:657: SourceChangeWarning: source code of class 'torch.nn.modules.conv.Conv1d' has changed. you can retrieve the original source code by accessing the object's source attribute or set `torch.nn.Module.dump_patches = True` and use the patch tool to revert the changes.\n",
      "  warnings.warn(msg, SourceChangeWarning)\n",
      "/home/stanislavv/Apps/Conda/envs/nemo/lib/python3.6/site-packages/torch/serialization.py:657: SourceChangeWarning: source code of class 'glow.Invertible1x1Conv' has changed. you can retrieve the original source code by accessing the object's source attribute or set `torch.nn.Module.dump_patches = True` and use the patch tool to revert the changes.\n",
      "  warnings.warn(msg, SourceChangeWarning)\n"
     ]
    },
    {
     "data": {
      "application/vnd.jupyter.widget-view+json": {
       "model_id": "a88e6133de93489eb274e96d41fc4f12",
       "version_major": 2,
       "version_minor": 0
      },
      "text/plain": [
       "HBox(children=(FloatProgress(value=0.0, max=500.0), HTML(value='')))"
      ]
     },
     "metadata": {},
     "output_type": "display_data"
    },
    {
     "name": "stderr",
     "output_type": "stream",
     "text": [
      "/home/stanislavv/src/tts/NeMo/nemo/collections/tts/fasterspeech_modules.py:898: UserWarning: To copy construct from a tensor, it is recommended to use sourceTensor.clone().detach() or sourceTensor.clone().detach().requires_grad_(True), rather than torch.tensor(sourceTensor).\n",
      "  mel = torch.tensor(mel, device='cuda').unsqueeze(0)\n"
     ]
    },
    {
     "name": "stdout",
     "output_type": "stream",
     "text": [
      "\n"
     ]
    }
   ],
   "source": [
    "yaml_loader = yaml.YAML(typ='safe')\n",
    "with open(CONFIG) as f:\n",
    "    config = argparse.Namespace(**yaml_loader.load(f))\n",
    "nemo.core.NeuralModuleFactory();\n",
    "data_preprocessor = nemo_asr.AudioToMelSpectrogramPreprocessor(\n",
    "    **config.AudioToMelSpectrogramPreprocessor\n",
    ")\n",
    "wf = nemo_asr.parts.features.WaveformFeaturizer(sample_rate=config.sample_rate)\n",
    "wg = nemo_tts.WaveGlowInference(str(WG_CODE), WG_CKPT)\n",
    "\n",
    "MEL_WG.mkdir(parents=True, exist_ok=True)\n",
    "\n",
    "for i, e in tqdm.notebook.tqdm(df.iterrows(), total=len(df)):\n",
    "    name, text = e['name'], e['text']\n",
    "    audio = wf.process(LJSPEECH / f'wavs/{name}.wav')\n",
    "    audio_len = torch.tensor(audio.shape[0]).long()\n",
    "    mel = data_preprocessor.forward(audio.cuda().unsqueeze_(0), audio_len.cuda().unsqueeze_(0))[0][0]\n",
    "    audio = wg(mel, sigma=0.666, denoiser=0.01, norm=False)\n",
    "    librosa.output.write_wav(MEL_WG / f'{i:03}.wav', audio, config.sample_rate, norm=False)"
   ]
  },
  {
   "cell_type": "markdown",
   "metadata": {},
   "source": [
    "### Tacotron 2 + WaveGlow"
   ]
  },
  {
   "cell_type": "code",
   "execution_count": 36,
   "metadata": {},
   "outputs": [],
   "source": [
    "# Procced to MOS / 'tacotron2'."
   ]
  },
  {
   "cell_type": "markdown",
   "metadata": {},
   "source": [
    "### TalkNet"
   ]
  },
  {
   "cell_type": "code",
   "execution_count": 38,
   "metadata": {},
   "outputs": [],
   "source": [
    "# Procced to separate nb."
   ]
  },
  {
   "cell_type": "markdown",
   "metadata": {},
   "source": [
    "## Index"
   ]
  },
  {
   "cell_type": "code",
   "execution_count": 218,
   "metadata": {},
   "outputs": [
    {
     "data": {
      "text/plain": [
       "['mel-waveglow',\n",
       " 'ground-truth',\n",
       " 'talknet-waveglow_unbiased-0.05',\n",
       " 'talknet-waveglow_better',\n",
       " 'tacotron2-waveglow',\n",
       " 'talknet-waveglow_unbiased-0.03-drop-0.05',\n",
       " 'talknet-waveglow']"
      ]
     },
     "execution_count": 218,
     "metadata": {},
     "output_type": "execute_result"
    }
   ],
   "source": [
    "AUDIO_URL = 'https://acb2d2f5.ngrok.io'\n",
    "MODELS_NAMES = [d.name for d in MODELS.iterdir()]\n",
    "MODELS_NAMES.remove('hard50')\n",
    "MODELS_NAMES"
   ]
  },
  {
   "cell_type": "code",
   "execution_count": 219,
   "metadata": {},
   "outputs": [
    {
     "data": {
      "text/html": [
       "<div>\n",
       "<style scoped>\n",
       "    .dataframe tbody tr th:only-of-type {\n",
       "        vertical-align: middle;\n",
       "    }\n",
       "\n",
       "    .dataframe tbody tr th {\n",
       "        vertical-align: top;\n",
       "    }\n",
       "\n",
       "    .dataframe thead th {\n",
       "        text-align: right;\n",
       "    }\n",
       "</style>\n",
       "<table border=\"1\" class=\"dataframe\">\n",
       "  <thead>\n",
       "    <tr style=\"text-align: right;\">\n",
       "      <th></th>\n",
       "      <th>audio_url</th>\n",
       "    </tr>\n",
       "  </thead>\n",
       "  <tbody>\n",
       "    <tr>\n",
       "      <th>0</th>\n",
       "      <td>Hit1_audio_url_data</td>\n",
       "    </tr>\n",
       "    <tr>\n",
       "      <th>1</th>\n",
       "      <td>Hit2_audio_url_data</td>\n",
       "    </tr>\n",
       "    <tr>\n",
       "      <th>2</th>\n",
       "      <td>Hit3_audio_url_data</td>\n",
       "    </tr>\n",
       "  </tbody>\n",
       "</table>\n",
       "</div>"
      ],
      "text/plain": [
       "             audio_url\n",
       "0  Hit1_audio_url_data\n",
       "1  Hit2_audio_url_data\n",
       "2  Hit3_audio_url_data"
      ]
     },
     "execution_count": 219,
     "metadata": {},
     "output_type": "execute_result"
    }
   ],
   "source": [
    "sample = pd.read_csv(MOS / 'sample.csv')\n",
    "sample.head()"
   ]
  },
  {
   "cell_type": "code",
   "execution_count": 221,
   "metadata": {},
   "outputs": [
    {
     "name": "stdout",
     "output_type": "stream",
     "text": [
      "big100.csv  biggest100.csv  last50.csv\t  medium.csv  onemore50.csv  tundra.csv\r\n",
      "big50.csv   kek.csv\t    medium-2.csv  mem.csv     small.csv      whole.csv\r\n"
     ]
    }
   ],
   "source": [
    "def make_index(models, k, file):\n",
    "    urls = []\n",
    "    for model in models:\n",
    "        for i in range(k):\n",
    "            urls.append(f'{AUDIO_URL}/{model}/{i:03}.wav')\n",
    "\n",
    "    index = pd.DataFrame(urls, columns=['audio_url'])\n",
    "    index = index.sample(frac=1).reset_index(drop=True)  # Shuffle\n",
    "\n",
    "    index.to_csv(file, index=False)\n",
    "\n",
    "make_index(MODELS_NAMES, 100, MOS / 'indexes/mem.csv')\n",
    "!ls $MOS/indexes"
   ]
  },
  {
   "cell_type": "markdown",
   "metadata": {},
   "source": [
    "## Resutls"
   ]
  },
  {
   "cell_type": "code",
   "execution_count": 15,
   "metadata": {},
   "outputs": [],
   "source": [
    "MARKS = {\n",
    "    'Excellent - Completely natural speech': 5,\n",
    "    'Good - Mostly natural speech': 4,\n",
    "    'Fair - Equally natural and unnatural speech': 3,\n",
    "    'Poor - Mostly unnatural speech': 2,\n",
    "    'Bad - Completely unnatural speech': 1,\n",
    "}\n",
    "MARKS_NEW = {\n",
    "    'Excellent': 5,\n",
    "    'Good': 4,\n",
    "    'Fair': 3,\n",
    "    'Poor': 2,\n",
    "    'Bad': 1,\n",
    "}\n",
    "MARKS_NEW_2 = {\n",
    "    '3.5': 3.5,\n",
    "    '1.0 - Bad': 1.0,\n",
    "    '2.0': 2.0,\n",
    "    '2.5': 2.5,\n",
    "    '5.0 - Excellent': 5.0, \n",
    "    '1.5': 1.5,\n",
    "    '3.0': 3.0,\n",
    "    '4.5': 4.5,\n",
    "    '4.0': 4.0,\n",
    "}"
   ]
  },
  {
   "cell_type": "code",
   "execution_count": 17,
   "metadata": {},
   "outputs": [
    {
     "data": {
      "text/html": [
       "<div>\n",
       "<style scoped>\n",
       "    .dataframe tbody tr th:only-of-type {\n",
       "        vertical-align: middle;\n",
       "    }\n",
       "\n",
       "    .dataframe tbody tr th {\n",
       "        vertical-align: top;\n",
       "    }\n",
       "\n",
       "    .dataframe thead th {\n",
       "        text-align: right;\n",
       "    }\n",
       "</style>\n",
       "<table border=\"1\" class=\"dataframe\">\n",
       "  <thead>\n",
       "    <tr style=\"text-align: right;\">\n",
       "      <th></th>\n",
       "      <th>mark</th>\n",
       "    </tr>\n",
       "    <tr>\n",
       "      <th>model</th>\n",
       "      <th></th>\n",
       "    </tr>\n",
       "  </thead>\n",
       "  <tbody>\n",
       "    <tr>\n",
       "      <th>talknet-waveglow</th>\n",
       "      <td>3.3285</td>\n",
       "    </tr>\n",
       "    <tr>\n",
       "      <th>talknet-waveglow_better</th>\n",
       "      <td>3.3295</td>\n",
       "    </tr>\n",
       "    <tr>\n",
       "      <th>talknet-waveglow_unbiased-0.03-drop-0.05</th>\n",
       "      <td>3.3695</td>\n",
       "    </tr>\n",
       "    <tr>\n",
       "      <th>talknet-waveglow_unbiased-0.05</th>\n",
       "      <td>3.3995</td>\n",
       "    </tr>\n",
       "    <tr>\n",
       "      <th>tacotron2-waveglow</th>\n",
       "      <td>3.8035</td>\n",
       "    </tr>\n",
       "    <tr>\n",
       "      <th>mel-waveglow</th>\n",
       "      <td>3.9955</td>\n",
       "    </tr>\n",
       "    <tr>\n",
       "      <th>ground-truth</th>\n",
       "      <td>4.2795</td>\n",
       "    </tr>\n",
       "  </tbody>\n",
       "</table>\n",
       "</div>"
      ],
      "text/plain": [
       "                                            mark\n",
       "model                                           \n",
       "talknet-waveglow                          3.3285\n",
       "talknet-waveglow_better                   3.3295\n",
       "talknet-waveglow_unbiased-0.03-drop-0.05  3.3695\n",
       "talknet-waveglow_unbiased-0.05            3.3995\n",
       "tacotron2-waveglow                        3.8035\n",
       "mel-waveglow                              3.9955\n",
       "ground-truth                              4.2795"
      ]
     },
     "execution_count": 17,
     "metadata": {},
     "output_type": "execute_result"
    }
   ],
   "source": [
    "def process_batch(batch, marks=MARKS, min_seconds=0):\n",
    "    batch = pd.read_csv(BATCHES / f'{batch}.csv')\n",
    "    \n",
    "    def parse(url):\n",
    "        *_, model, example = url.split('/')\n",
    "        example = example.split('.')[0]\n",
    "        return model, example\n",
    "\n",
    "    data = []\n",
    "    for _, e in batch.iterrows():\n",
    "        mark = marks.get(e['Answer.audio-naturalness.label'])\n",
    "        model, example = parse(e['Input.audio_url'])\n",
    "        time = int(e['WorkTimeInSeconds'])\n",
    "\n",
    "        if time >= min_seconds:\n",
    "            data.append((model, example, mark))\n",
    "    \n",
    "    df = pd.DataFrame(data, columns=['model', 'example', 'mark'])\n",
    "\n",
    "    return df\n",
    "\n",
    "\n",
    "df = process_batch('mem', MARKS_NEW_2)\n",
    "df.groupby(['model']).mean().sort_values('mark')"
   ]
  },
  {
   "cell_type": "code",
   "execution_count": 215,
   "metadata": {},
   "outputs": [
    {
     "data": {
      "text/plain": [
       "Index(['086', '050', '033', '097', '022', '036', '001', '067', '009', '077'], dtype='object', name='example')"
      ]
     },
     "execution_count": 215,
     "metadata": {},
     "output_type": "execute_result"
    }
   ],
   "source": [
    "df[df.model == 'talknet-waveglow'].groupby(['example']).mean().sort_values('mark').index[:10]"
   ]
  },
  {
   "cell_type": "code",
   "execution_count": 153,
   "metadata": {},
   "outputs": [
    {
     "name": "stdout",
     "output_type": "stream",
     "text": [
      "big50.csv\tlast50.csv    medium.csv      onemore50.csv  tundra.csv\r\n",
      "biggest100.csv\tmedium-2.csv  medium-new.csv  small.csv      whole.csv\r\n"
     ]
    }
   ],
   "source": [
    "!ls $MOS/batches"
   ]
  },
  {
   "cell_type": "code",
   "execution_count": 200,
   "metadata": {},
   "outputs": [
    {
     "data": {
      "text/html": [
       "<div>\n",
       "<style scoped>\n",
       "    .dataframe tbody tr th:only-of-type {\n",
       "        vertical-align: middle;\n",
       "    }\n",
       "\n",
       "    .dataframe tbody tr th {\n",
       "        vertical-align: top;\n",
       "    }\n",
       "\n",
       "    .dataframe thead th {\n",
       "        text-align: right;\n",
       "    }\n",
       "</style>\n",
       "<table border=\"1\" class=\"dataframe\">\n",
       "  <thead>\n",
       "    <tr style=\"text-align: right;\">\n",
       "      <th></th>\n",
       "      <th>model</th>\n",
       "      <th>example</th>\n",
       "      <th>mark</th>\n",
       "    </tr>\n",
       "  </thead>\n",
       "  <tbody>\n",
       "    <tr>\n",
       "      <th>0</th>\n",
       "      <td>talknet-waveglow_l2-log-400</td>\n",
       "      <td>032</td>\n",
       "      <td>3</td>\n",
       "    </tr>\n",
       "    <tr>\n",
       "      <th>1</th>\n",
       "      <td>talknet-waveglow_l2-log-400</td>\n",
       "      <td>032</td>\n",
       "      <td>4</td>\n",
       "    </tr>\n",
       "    <tr>\n",
       "      <th>2</th>\n",
       "      <td>talknet-waveglow_l2-log-400</td>\n",
       "      <td>032</td>\n",
       "      <td>4</td>\n",
       "    </tr>\n",
       "    <tr>\n",
       "      <th>3</th>\n",
       "      <td>talknet-waveglow_l2-log-400</td>\n",
       "      <td>022</td>\n",
       "      <td>3</td>\n",
       "    </tr>\n",
       "    <tr>\n",
       "      <th>4</th>\n",
       "      <td>talknet-waveglow_l2-log-400</td>\n",
       "      <td>022</td>\n",
       "      <td>2</td>\n",
       "    </tr>\n",
       "  </tbody>\n",
       "</table>\n",
       "</div>"
      ],
      "text/plain": [
       "                         model example  mark\n",
       "0  talknet-waveglow_l2-log-400     032     3\n",
       "1  talknet-waveglow_l2-log-400     032     4\n",
       "2  talknet-waveglow_l2-log-400     032     4\n",
       "3  talknet-waveglow_l2-log-400     022     3\n",
       "4  talknet-waveglow_l2-log-400     022     2"
      ]
     },
     "execution_count": 200,
     "metadata": {},
     "output_type": "execute_result"
    }
   ],
   "source": [
    "def collect_all(batches=None):\n",
    "    dfs = []\n",
    "    for batch in (batches or BATCHES.iterdir()):\n",
    "        dfs.append(process_batch(batch))\n",
    "    \n",
    "#     dfs.append(process_batch('kek', MARKS_NEW))\n",
    "    \n",
    "    df = pd.concat(dfs)\n",
    "    return df\n",
    "\n",
    "\n",
    "df = collect_all([\n",
    "    'big50', 'biggest100', 'last50',\n",
    "    'onemore50', 'tundra', 'whole',\n",
    "])\n",
    "df.head()"
   ]
  },
  {
   "cell_type": "code",
   "execution_count": 194,
   "metadata": {},
   "outputs": [
    {
     "data": {
      "text/html": [
       "<div>\n",
       "<style scoped>\n",
       "    .dataframe tbody tr th:only-of-type {\n",
       "        vertical-align: middle;\n",
       "    }\n",
       "\n",
       "    .dataframe tbody tr th {\n",
       "        vertical-align: top;\n",
       "    }\n",
       "\n",
       "    .dataframe thead th {\n",
       "        text-align: right;\n",
       "    }\n",
       "</style>\n",
       "<table border=\"1\" class=\"dataframe\">\n",
       "  <thead>\n",
       "    <tr style=\"text-align: right;\">\n",
       "      <th></th>\n",
       "      <th>mark</th>\n",
       "    </tr>\n",
       "    <tr>\n",
       "      <th>model</th>\n",
       "      <th></th>\n",
       "    </tr>\n",
       "  </thead>\n",
       "  <tbody>\n",
       "    <tr>\n",
       "      <th>talknet-waveglow</th>\n",
       "      <td>3.101</td>\n",
       "    </tr>\n",
       "    <tr>\n",
       "      <th>tacotron2-waveglow</th>\n",
       "      <td>3.502</td>\n",
       "    </tr>\n",
       "    <tr>\n",
       "      <th>mel-waveglow</th>\n",
       "      <td>4.018</td>\n",
       "    </tr>\n",
       "    <tr>\n",
       "      <th>ground-truth</th>\n",
       "      <td>4.369</td>\n",
       "    </tr>\n",
       "  </tbody>\n",
       "</table>\n",
       "</div>"
      ],
      "text/plain": [
       "                     mark\n",
       "model                    \n",
       "talknet-waveglow    3.101\n",
       "tacotron2-waveglow  3.502\n",
       "mel-waveglow        4.018\n",
       "ground-truth        4.369"
      ]
     },
     "execution_count": 194,
     "metadata": {},
     "output_type": "execute_result"
    }
   ],
   "source": [
    "df.groupby(['model']).mean().sort_values('mark')"
   ]
  },
  {
   "cell_type": "code",
   "execution_count": 82,
   "metadata": {},
   "outputs": [
    {
     "data": {
      "text/html": [
       "<div>\n",
       "<style scoped>\n",
       "    .dataframe tbody tr th:only-of-type {\n",
       "        vertical-align: middle;\n",
       "    }\n",
       "\n",
       "    .dataframe tbody tr th {\n",
       "        vertical-align: top;\n",
       "    }\n",
       "\n",
       "    .dataframe thead th {\n",
       "        text-align: right;\n",
       "    }\n",
       "</style>\n",
       "<table border=\"1\" class=\"dataframe\">\n",
       "  <thead>\n",
       "    <tr style=\"text-align: right;\">\n",
       "      <th></th>\n",
       "      <th>mark</th>\n",
       "    </tr>\n",
       "    <tr>\n",
       "      <th>model</th>\n",
       "      <th></th>\n",
       "    </tr>\n",
       "  </thead>\n",
       "  <tbody>\n",
       "    <tr>\n",
       "      <th>talknet-megatron-xe</th>\n",
       "      <td>3.529412</td>\n",
       "    </tr>\n",
       "    <tr>\n",
       "      <th>talknet-megatron-l2log</th>\n",
       "      <td>3.546875</td>\n",
       "    </tr>\n",
       "    <tr>\n",
       "      <th>talknet-megatron-l2log-better</th>\n",
       "      <td>3.745902</td>\n",
       "    </tr>\n",
       "    <tr>\n",
       "      <th>tacotron2-waveglow</th>\n",
       "      <td>3.848485</td>\n",
       "    </tr>\n",
       "    <tr>\n",
       "      <th>mel-waveglow</th>\n",
       "      <td>4.038760</td>\n",
       "    </tr>\n",
       "    <tr>\n",
       "      <th>ground-truth</th>\n",
       "      <td>4.087302</td>\n",
       "    </tr>\n",
       "  </tbody>\n",
       "</table>\n",
       "</div>"
      ],
      "text/plain": [
       "                                   mark\n",
       "model                                  \n",
       "talknet-megatron-xe            3.529412\n",
       "talknet-megatron-l2log         3.546875\n",
       "talknet-megatron-l2log-better  3.745902\n",
       "tacotron2-waveglow             3.848485\n",
       "mel-waveglow                   4.038760\n",
       "ground-truth                   4.087302"
      ]
     },
     "execution_count": 82,
     "metadata": {},
     "output_type": "execute_result"
    }
   ],
   "source": [
    "df = process_batch('medium-2', min_seconds=10)\n",
    "df.groupby(['model']).mean().sort_values('mark')"
   ]
  },
  {
   "cell_type": "code",
   "execution_count": 84,
   "metadata": {},
   "outputs": [
    {
     "data": {
      "text/html": [
       "<div>\n",
       "<style scoped>\n",
       "    .dataframe tbody tr th:only-of-type {\n",
       "        vertical-align: middle;\n",
       "    }\n",
       "\n",
       "    .dataframe tbody tr th {\n",
       "        vertical-align: top;\n",
       "    }\n",
       "\n",
       "    .dataframe thead th {\n",
       "        text-align: right;\n",
       "    }\n",
       "</style>\n",
       "<table border=\"1\" class=\"dataframe\">\n",
       "  <thead>\n",
       "    <tr style=\"text-align: right;\">\n",
       "      <th></th>\n",
       "      <th>mark</th>\n",
       "    </tr>\n",
       "    <tr>\n",
       "      <th>model</th>\n",
       "      <th></th>\n",
       "    </tr>\n",
       "  </thead>\n",
       "  <tbody>\n",
       "    <tr>\n",
       "      <th>ground-truth</th>\n",
       "      <td>0.829649</td>\n",
       "    </tr>\n",
       "    <tr>\n",
       "      <th>mel-waveglow</th>\n",
       "      <td>0.887439</td>\n",
       "    </tr>\n",
       "    <tr>\n",
       "      <th>tacotron2-waveglow</th>\n",
       "      <td>0.795837</td>\n",
       "    </tr>\n",
       "    <tr>\n",
       "      <th>talknet-megatron-l2log</th>\n",
       "      <td>0.912377</td>\n",
       "    </tr>\n",
       "    <tr>\n",
       "      <th>talknet-megatron-l2log-better</th>\n",
       "      <td>0.777381</td>\n",
       "    </tr>\n",
       "    <tr>\n",
       "      <th>talknet-megatron-xe</th>\n",
       "      <td>0.811188</td>\n",
       "    </tr>\n",
       "  </tbody>\n",
       "</table>\n",
       "</div>"
      ],
      "text/plain": [
       "                                   mark\n",
       "model                                  \n",
       "ground-truth                   0.829649\n",
       "mel-waveglow                   0.887439\n",
       "tacotron2-waveglow             0.795837\n",
       "talknet-megatron-l2log         0.912377\n",
       "talknet-megatron-l2log-better  0.777381\n",
       "talknet-megatron-xe            0.811188"
      ]
     },
     "execution_count": 84,
     "metadata": {},
     "output_type": "execute_result"
    }
   ],
   "source": [
    "df.groupby('model').std()"
   ]
  },
  {
   "cell_type": "code",
   "execution_count": 18,
   "metadata": {},
   "outputs": [],
   "source": [
    "def conf95(a):\n",
    "    l, r = st.t.interval(0.95, len(a) - 1, loc=np.mean(a), scale=st.sem(a))\n",
    "    return (l + r) / 2, (r - l) / 2"
   ]
  },
  {
   "cell_type": "code",
   "execution_count": 19,
   "metadata": {},
   "outputs": [
    {
     "data": {
      "text/plain": [
       "model\n",
       "ground-truth                                (4.2795, 0.053358699210656724)\n",
       "mel-waveglow                                (3.9955, 0.056365839386855576)\n",
       "tacotron2-waveglow                           (3.8035, 0.06007056476917061)\n",
       "talknet-waveglow                             (3.3285, 0.07018263872182962)\n",
       "talknet-waveglow_better                      (3.3295, 0.06651233510197319)\n",
       "talknet-waveglow_unbiased-0.03-drop-0.05     (3.3695, 0.06797522693855784)\n",
       "talknet-waveglow_unbiased-0.05                (3.3995, 0.0666851026350721)\n",
       "Name: mark, dtype: object"
      ]
     },
     "execution_count": 19,
     "metadata": {},
     "output_type": "execute_result"
    }
   ],
   "source": [
    "df.groupby('model')['mark'].apply(conf95)"
   ]
  },
  {
   "cell_type": "code",
   "execution_count": 219,
   "metadata": {},
   "outputs": [
    {
     "name": "stdout",
     "output_type": "stream",
     "text": [
      "12 89 80 66 44 81 55 64 71 75 58 57 16 11 51 28 54 5 53 69 60 8 83 91 95\n"
     ]
    }
   ],
   "source": [
    "ii = df[df.model == 'talknet-waveglow'].groupby('example').mean().sort_values('mark')[:25].index.tolist()\n",
    "print(*ii)"
   ]
  }
 ],
 "metadata": {
  "kernelspec": {
   "display_name": "Python 3",
   "language": "python",
   "name": "python3"
  },
  "language_info": {
   "codemirror_mode": {
    "name": "ipython",
    "version": 3
   },
   "file_extension": ".py",
   "mimetype": "text/x-python",
   "name": "python",
   "nbconvert_exporter": "python",
   "pygments_lexer": "ipython3",
   "version": "3.6.9"
  }
 },
 "nbformat": 4,
 "nbformat_minor": 2
}
