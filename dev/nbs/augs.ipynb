{
 "cells": [
  {
   "cell_type": "code",
   "execution_count": 1,
   "metadata": {},
   "outputs": [],
   "source": [
    "%reload_ext autoreload\n",
    "%autoreload 2\n",
    "\n",
    "import numpy as np\n",
    "import matplotlib.pyplot as plt"
   ]
  },
  {
   "cell_type": "code",
   "execution_count": 2,
   "metadata": {},
   "outputs": [
    {
     "data": {
      "text/plain": [
       "13036"
      ]
     },
     "execution_count": 2,
     "metadata": {},
     "output_type": "execute_result"
    }
   ],
   "source": [
    "train_durs = np.load(\n",
    "    '/home/stanislavv/data/librimeta/durs/ljspeech_300epochs-qn15x5-eqlen/train.npy',\n",
    "    allow_pickle=True,\n",
    ")\n",
    "len(train_durs)"
   ]
  },
  {
   "cell_type": "code",
   "execution_count": 3,
   "metadata": {},
   "outputs": [
    {
     "data": {
      "text/plain": [
       "64"
      ]
     },
     "execution_count": 3,
     "metadata": {},
     "output_type": "execute_result"
    }
   ],
   "source": [
    "eval_durs = np.load(\n",
    "    '/home/stanislavv/data/librimeta/durs/ljspeech_300epochs-qn15x5-eqlen/eval.npy', \n",
    "    allow_pickle=True,\n",
    ")\n",
    "len(eval_durs)"
   ]
  },
  {
   "cell_type": "code",
   "execution_count": 4,
   "metadata": {},
   "outputs": [
    {
     "data": {
      "text/plain": [
       "870"
      ]
     },
     "execution_count": 4,
     "metadata": {},
     "output_type": "execute_result"
    }
   ],
   "source": [
    "max(sum(b) + sum(d) for b, d in eval_durs)"
   ]
  },
  {
   "cell_type": "code",
   "execution_count": 36,
   "metadata": {},
   "outputs": [
    {
     "data": {
      "image/png": "[encoded data removed]",
      "text/plain": [
       "<Figure size 1440x576 with 2 Axes>"
      ]
     },
     "metadata": {
      "needs_background": "light"
     },
     "output_type": "display_data"
    }
   ],
   "source": [
    "t, e = [], []\n",
    "for b, _ in train_durs:\n",
    "    t.extend(b)\n",
    "for b, _ in eval_durs:\n",
    "    e.extend(b)\n",
    "\n",
    "plt.figure(figsize=(20, 8))\n",
    "plt.subplot(121)\n",
    "plt.hist(t, bins=range(20));\n",
    "plt.subplot(122)\n",
    "plt.hist(e, bins=range(20));"
   ]
  },
  {
   "cell_type": "code",
   "execution_count": 3,
   "metadata": {},
   "outputs": [
    {
     "name": "stdout",
     "output_type": "stream",
     "text": [
      "14 2 0 8 4 2 10 1 0 0 20 3 2 8 15 2 2 6 0 20 6 2 9 2 64 1 5 3 9 3 15 3 18 1 5 3 0 7 3 1 6 17 2 9 0 24 5 2 10 2 2 5 8 2 8 0 28 1\n",
      "1 1 1 2 2 0 1 1 2 3 1 1 1 1 1 1 2 1 2 1 1 1 0 0 1 1 1 1 1 1 1 1 1 1 1 1 1 2 2 1 1 1 1 1 2 1 1 1 2 1 1 2 1 1 1 1 1\n"
     ]
    }
   ],
   "source": [
    "blanks, durs = all_durs[0]\n",
    "print(*blanks)\n",
    "print(*durs)"
   ]
  },
  {
   "cell_type": "code",
   "execution_count": 239,
   "metadata": {},
   "outputs": [
    {
     "name": "stdout",
     "output_type": "stream",
     "text": [
      "1 1 1 2 2 0 1 1 2 3 1 1 1 1 1 1 2 1 2 1 1 1 0 0 1 1 1 1 1 1 1 1 1 1 1 1 1 2 2 1 1 1 1 1 2 1 1 1 2 1 1 2 1 1 1 1 1\n",
      "4 1 0 4 2 1 4 2 2 6 3 2 6 0 10 0 4 1 5 8 4 1 1 15 0 0 1 3 3 3 4 0 6 1 3 2 3 0 2 2 5 0 2 3 8 0 2 5 0 3 1 0 1 2 4 2 0\n"
     ]
    }
   ],
   "source": [
    "class BDAugs:\n",
    "    @staticmethod\n",
    "    def shake(b, d, p=0.1):\n",
    "        b, d, total = b.copy(), d.copy(), sum(b) + sum(d)\n",
    "        \n",
    "        def split2(x):\n",
    "            xl = np.random.binomial(x, p)\n",
    "            return xl, x - xl\n",
    "        \n",
    "        def split3(x):\n",
    "            xl, xm = split2(x)\n",
    "            xr, xm = split2(xm)\n",
    "            return xl, xm, xr\n",
    "\n",
    "        n, m = len(b), len(d)\n",
    "        nb = np.zeros_like(b)\n",
    "        for i in range(len(b)):\n",
    "            bl, bm, br = split3(b[i])\n",
    "\n",
    "            nb[i] += bm\n",
    "\n",
    "            if i > 0:\n",
    "                d[i - 1] += bl\n",
    "            else:\n",
    "                nb[i] += bl\n",
    "\n",
    "            if i < m:\n",
    "                d[i] += br\n",
    "            else:\n",
    "                nb[i] += br\n",
    "        \n",
    "        b = nb\n",
    "        assert sum(b) + sum(d) == total\n",
    "\n",
    "        return b, d\n",
    "    \n",
    "    @staticmethod\n",
    "    def zero_out(b, d, p=0.1):\n",
    "        b, d, total = b.copy(), d.copy(), sum(b) + sum(d)\n",
    "        \n",
    "        mask = np.random.binomial(1, size=d.size, p=p).astype(bool)\n",
    "        b[:-1][mask] += d[mask]\n",
    "        d[mask] -= d[mask]\n",
    "        \n",
    "        assert sum(b) + sum(d) == total\n",
    "\n",
    "        return b, d\n",
    "\n",
    "    @staticmethod\n",
    "    def compose(augs):\n",
    "        def pipe(b, d, p=0.1):\n",
    "            for aug in augs:\n",
    "                b, d = aug(b, d, p=p)\n",
    "            \n",
    "            return b, d\n",
    "        \n",
    "        return pipe\n",
    "\n",
    "\n",
    "print(*durs)\n",
    "_, new_durs = BDAugs.compose([BDAugs.shake, BDAugs.zero_out])(blanks, durs, p=0.2)\n",
    "print(*new_durs)"
   ]
  }
 ],
 "metadata": {
  "kernelspec": {
   "display_name": "Python 3",
   "language": "python",
   "name": "python3"
  },
  "language_info": {
   "codemirror_mode": {
    "name": "ipython",
    "version": 3
   },
   "file_extension": ".py",
   "mimetype": "text/x-python",
   "name": "python",
   "nbconvert_exporter": "python",
   "pygments_lexer": "ipython3",
   "version": "3.6.9"
  }
 },
 "nbformat": 4,
 "nbformat_minor": 2
}
